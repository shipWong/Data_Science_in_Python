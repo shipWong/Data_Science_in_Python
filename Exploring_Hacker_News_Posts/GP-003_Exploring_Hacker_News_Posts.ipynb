{
 "cells": [
  {
   "cell_type": "markdown",
   "id": "5cbb0eec",
   "metadata": {},
   "source": [
    "# Hacker News Posts — the Best Post Submission Times that You Need to Know <a class=tocSkip>"
   ]
  },
  {
   "attachments": {
    "hacker-news-logo.jpeg": {
     "image/jpeg": "[encoded data removed]"
    }
   },
   "cell_type": "markdown",
   "id": "48f06cbc",
   "metadata": {},
   "source": [
    "![hacker-news-logo.jpeg](attachment:hacker-news-logo.jpeg)"
   ]
  },
  {
   "cell_type": "markdown",
   "id": "229929f8",
   "metadata": {
    "toc": true
   },
   "source": [
    "<h1>Table of Contents<span class=\"tocSkip\"></span></h1>\n",
    "<div class=\"toc\"><ul class=\"toc-item\"><li><span><a href=\"#Introduction\" data-toc-modified-id=\"Introduction-1\"><span class=\"toc-item-num\">1&nbsp;&nbsp;</span>Introduction</a></span><ul class=\"toc-item\"><li><span><a href=\"#The-goal-of-the-project\" data-toc-modified-id=\"The-goal-of-the-project-1.1\"><span class=\"toc-item-num\">1.1&nbsp;&nbsp;</span>The goal of the project</a></span></li><li><span><a href=\"#Summary-of-the-results\" data-toc-modified-id=\"Summary-of-the-results-1.2\"><span class=\"toc-item-num\">1.2&nbsp;&nbsp;</span>Summary of the results</a></span></li></ul></li><li><span><a href=\"#Preparing-the-data\" data-toc-modified-id=\"Preparing-the-data-2\"><span class=\"toc-item-num\">2&nbsp;&nbsp;</span>Preparing the data</a></span><ul class=\"toc-item\"><li><span><a href=\"#Exploring-the-data\" data-toc-modified-id=\"Exploring-the-data-2.1\"><span class=\"toc-item-num\">2.1&nbsp;&nbsp;</span>Exploring the data</a></span></li><li><span><a href=\"#Seperating-the-post-types\" data-toc-modified-id=\"Seperating-the-post-types-2.2\"><span class=\"toc-item-num\">2.2&nbsp;&nbsp;</span>Seperating the post types</a></span></li></ul></li><li><span><a href=\"#Computing-the-percentage-of-each-of-the-post-types\" data-toc-modified-id=\"Computing-the-percentage-of-each-of-the-post-types-3\"><span class=\"toc-item-num\">3&nbsp;&nbsp;</span>Computing the percentage of each of the post types</a></span></li><li><span><a href=\"#Calculating-the-average-number-of-comments-for-Ask-HN-and-Show-HN-posts\" data-toc-modified-id=\"Calculating-the-average-number-of-comments-for-Ask-HN-and-Show-HN-posts-4\"><span class=\"toc-item-num\">4&nbsp;&nbsp;</span>Calculating the average number of comments for <code>Ask HN</code> and <code>Show HN</code> posts</a></span></li><li><span><a href=\"#Ask-HN-posts-—-the-best-submission-times-with-a-higher-chance-of-attracting-comments\" data-toc-modified-id=\"Ask-HN-posts-—-the-best-submission-times-with-a-higher-chance-of-attracting-comments-5\"><span class=\"toc-item-num\">5&nbsp;&nbsp;</span><code>Ask HN</code> posts — the best submission times with a higher chance of attracting comments</a></span><ul class=\"toc-item\"><li><span><a href=\"#Computing-the-number-of-Ask-HN-and-comments-by-hour-created\" data-toc-modified-id=\"Computing-the-number-of-Ask-HN-and-comments-by-hour-created-5.1\"><span class=\"toc-item-num\">5.1&nbsp;&nbsp;</span>Computing the number of <code>Ask HN</code> and comments by hour created</a></span></li><li><span><a href=\"#Calculating-the-average-number-of-comments-for-Ask-HN-posts-by-the-hour\" data-toc-modified-id=\"Calculating-the-average-number-of-comments-for-Ask-HN-posts-by-the-hour-5.2\"><span class=\"toc-item-num\">5.2&nbsp;&nbsp;</span>Calculating the average number of comments for <code>Ask HN</code> posts by the hour</a></span></li><li><span><a href=\"#The-top-three-hours-to-get-maximum-comments-for-Ask-HN\" data-toc-modified-id=\"The-top-three-hours-to-get-maximum-comments-for-Ask-HN-5.3\"><span class=\"toc-item-num\">5.3&nbsp;&nbsp;</span>The top three hours to get maximum comments for <code>Ask HN</code></a></span></li><li><span><a href=\"#Visualisation-of-the-top-three-hours-with-the-maximum-comments-for-Ask-HN\" data-toc-modified-id=\"Visualisation-of-the-top-three-hours-with-the-maximum-comments-for-Ask-HN-5.4\"><span class=\"toc-item-num\">5.4&nbsp;&nbsp;</span>Visualisation of the top three hours with the maximum comments for <code>Ask HN</code></a></span></li></ul></li><li><span><a href=\"#Ask-HN-or-Show-HN-posts-—-which-of-them-has-a-higher-approval-rate?\" data-toc-modified-id=\"Ask-HN-or-Show-HN-posts-—-which-of-them-has-a-higher-approval-rate?-6\"><span class=\"toc-item-num\">6&nbsp;&nbsp;</span><code>Ask HN</code> or <code>Show HN</code> posts — which of them has a higher approval rate?</a></span></li><li><span><a href=\"#Show-HN-posts-—-the-best-submission-times-with-a-higher-chance-of-getting-a-higher-approval-rate\" data-toc-modified-id=\"Show-HN-posts-—-the-best-submission-times-with-a-higher-chance-of-getting-a-higher-approval-rate-7\"><span class=\"toc-item-num\">7&nbsp;&nbsp;</span><code>Show HN</code> posts — the best submission times with a higher chance of getting a higher approval rate</a></span><ul class=\"toc-item\"><li><span><a href=\"#Finding-the-number-of-Show-HN-and-points-by-the-submission-hour\" data-toc-modified-id=\"Finding-the-number-of-Show-HN-and-points-by-the-submission-hour-7.1\"><span class=\"toc-item-num\">7.1&nbsp;&nbsp;</span>Finding the number of <code>Show HN</code> and points by the submission hour</a></span></li><li><span><a href=\"#Computing-the-average-number-of-points-for-Show-HN-posts-on-an-hourly-basis\" data-toc-modified-id=\"Computing-the-average-number-of-points-for-Show-HN-posts-on-an-hourly-basis-7.2\"><span class=\"toc-item-num\">7.2&nbsp;&nbsp;</span>Computing the average number of points for <code>Show HN</code> posts on an hourly basis</a></span></li><li><span><a href=\"#The-top-three-hours-to-get-the-highest-number-of-points-for-Show-HN\" data-toc-modified-id=\"The-top-three-hours-to-get-the-highest-number-of-points-for-Show-HN-7.3\"><span class=\"toc-item-num\">7.3&nbsp;&nbsp;</span>The top three hours to get the highest number of points for <code>Show HN</code></a></span></li><li><span><a href=\"#Visualisation-of-the-top-three-hours-with-the-highest-number-of-points-for-Show-HN\" data-toc-modified-id=\"Visualisation-of-the-top-three-hours-with-the-highest-number-of-points-for-Show-HN-7.4\"><span class=\"toc-item-num\">7.4&nbsp;&nbsp;</span>Visualisation of the top three hours with the highest number of points for <code>Show HN</code></a></span></li></ul></li><li><span><a href=\"#Conclusion\" data-toc-modified-id=\"Conclusion-8\"><span class=\"toc-item-num\">8&nbsp;&nbsp;</span>Conclusion</a></span></li></ul></div>"
   ]
  },
  {
   "cell_type": "markdown",
   "id": "e744d80e",
   "metadata": {},
   "source": [
    "## Introduction"
   ]
  },
  {
   "cell_type": "markdown",
   "id": "f4810914",
   "metadata": {},
   "source": [
    "In this project, we analyse a [modified dataset](https://dq-content.s3.amazonaws.com/356/hacker_news.csv) of post submissions to [Hacker News](https://news.ycombinator.com/) (abbreviated as HN). Hacker News is a social news website started by incubator [Y Combinator](https://en.wikipedia.org/wiki/Y_Combinator) with a focus on technology and entrepreneurship. The original dataset can be found [here](https://www.kaggle.com/datasets/hacker-news/hacker-news-posts).\n",
    "\n",
    "On Hacker News, users can upvote or downvote posts — this eventually contribute to the number of points the posts receive. The higher the number of points a post obtain, the greater its approval rate. The number of points is calculated as below:\n",
    "\n",
    "```\n",
    "num_points = the total number of upvotes - the total number of downvotes\n",
    "```\n",
    "\n",
    "There are three types of posts on Hacker News:\n",
    "- `Ask HN`: The posts for **asking** Hacker News community questions.\n",
    "- `Show HN`: The posts for **sharing** with the community a project, product, or just generally something interesting.\n",
    "- Other posts\n",
    "\n",
    "The column descriptions of the dataset are as below:\n",
    "\n",
    "- `id`: The unique identifier for the post\n",
    "- `title`: The post title\n",
    "- `url`: The URL that the posts link to (if the post has a URL)\n",
    "- `num_points`: The number of points the post obtained\n",
    "- `num_comments`: The number of comments received by a post\n",
    "- `author`: The username of the person who submitted the post\n",
    "- `created_at`: The date and time at which the post was submitted (timezone - Eastern Time in the US)"
   ]
  },
  {
   "cell_type": "markdown",
   "id": "78fa9ded",
   "metadata": {},
   "source": [
    "### The goal of the project"
   ]
  },
  {
   "cell_type": "markdown",
   "id": "4a6b1541",
   "metadata": {},
   "source": [
    "Our main interests are analysing the posts with titles starting with `Ask HN` and `Show HN`. \n",
    "\n",
    "The project aims to answer these questions:\n",
    "- What type of post receive more comments on average?\n",
    "- What is the submission time that posts attract more comments on average?\n",
    "- What type of post obtain more points (higher approval rate) on average?\n",
    "- What is the publishing time that posts earn more points on average?"
   ]
  },
  {
   "cell_type": "markdown",
   "id": "92e6f6c6",
   "metadata": {},
   "source": [
    "### Summary of the results"
   ]
  },
  {
   "cell_type": "markdown",
   "id": "223be52e",
   "metadata": {},
   "source": [
    "- **`Ask HN`** posts receive **more comments** on average. Their prime submission times are:\n",
    "    - **15:00 - 16:00 EDT** (or 21:00 - 22:00 CEST)\n",
    "    - **2:00 - 3:00 EDT** (or 8:00 - 9:00 CEST)\n",
    "    - **20:00 - 21:00 EDT** (or 2:00 - 3:00 CEST)\n",
    "\n",
    "- **`Show HN`** obtain a **higher approval rate** on average. Their best publishing time blocks are:\n",
    "    - **22:00 - 1:00 EDT** (or 4:00 - 7:00 CEST)\n",
    "    - **11:00 - 13:00 EDT** (or 17:00 - 18:00 CEST)\n",
    "\n",
    "- Both `Ask HN` and `Show HN` demonstrate distinct peak times for acquiring a high number of comments and points, respectively.\n",
    "\n",
    "- We deduce that most responders are from the US timezone or countries in the nearer timezones.\n",
    "\n",
    "Note:\n",
    "- EDT : Eastern Daylight Time\n",
    "- CEST : Central European Summer Time"
   ]
  },
  {
   "cell_type": "markdown",
   "id": "b8f5fe5a",
   "metadata": {},
   "source": [
    "---"
   ]
  },
  {
   "cell_type": "markdown",
   "id": "8c1a64cf",
   "metadata": {},
   "source": [
    "## Preparing the data"
   ]
  },
  {
   "cell_type": "markdown",
   "id": "ae271415",
   "metadata": {},
   "source": [
    "### Exploring the data"
   ]
  },
  {
   "cell_type": "markdown",
   "id": "e9e4ffca",
   "metadata": {},
   "source": [
    "Let's read `hacker_news.csv` file into a list of lists named `hn`. Afterwards, we extract and assign the first row of `hn` to the variable `headers`, while removing the first row from `hn`."
   ]
  },
  {
   "cell_type": "code",
   "execution_count": 1,
   "id": "991d2e4f",
   "metadata": {},
   "outputs": [],
   "source": [
    "from csv import reader\n",
    "\n",
    "# Read the csv file as a list of lists\n",
    "opened_file = open('hacker_news.csv')\n",
    "read_file = reader(opened_file)\n",
    "hn = list(read_file)  # The complete dataset\n",
    "headers = hn[0]  # The headers\n",
    "hn = hn[1:]  # The dataset without headers"
   ]
  },
  {
   "cell_type": "markdown",
   "id": "173f3582",
   "metadata": {},
   "source": [
    "We examine the `headers` here:"
   ]
  },
  {
   "cell_type": "code",
   "execution_count": 2,
   "id": "87dec166",
   "metadata": {},
   "outputs": [
    {
     "name": "stdout",
     "output_type": "stream",
     "text": [
      "['id', 'title', 'url', 'num_points', 'num_comments', 'author', 'created_at']\n"
     ]
    }
   ],
   "source": [
    "# Examine the `headers`\n",
    "print(headers)"
   ]
  },
  {
   "cell_type": "markdown",
   "id": "5343ccb7",
   "metadata": {},
   "source": [
    "Let's print the first five rows of `hn` to verify whether the `header` has been removed from `hn` and briefly explore tha data."
   ]
  },
  {
   "cell_type": "code",
   "execution_count": 3,
   "id": "987414e9",
   "metadata": {},
   "outputs": [
    {
     "name": "stdout",
     "output_type": "stream",
     "text": [
      "['12224879', 'Interactive Dynamic Video', 'http://www.interactivedynamicvideo.com/', '386', '52', 'ne0phyte', '8/4/2016 11:52']\n",
      "\n",
      "['10975351', 'How to Use Open Source and Shut the Fuck Up at the Same Time', 'http://hueniverse.com/2016/01/26/how-to-use-open-source-and-shut-the-fuck-up-at-the-same-time/', '39', '10', 'josep2', '1/26/2016 19:30']\n",
      "\n",
      "['11964716', \"Florida DJs May Face Felony for April Fools' Water Joke\", 'http://www.thewire.com/entertainment/2013/04/florida-djs-april-fools-water-joke/63798/', '2', '1', 'vezycash', '6/23/2016 22:20']\n",
      "\n",
      "['11919867', 'Technology ventures: From Idea to Enterprise', 'https://www.amazon.com/Technology-Ventures-Enterprise-Thomas-Byers/dp/0073523429', '3', '1', 'hswarna', '6/17/2016 0:01']\n",
      "\n",
      "['10301696', 'Note by Note: The Making of Steinway L1037 (2007)', 'http://www.nytimes.com/2007/11/07/movies/07stein.html?_r=0', '8', '2', 'walterbell', '9/30/2015 4:12']\n"
     ]
    }
   ],
   "source": [
    "# Examine the first five rows of `hn`\n",
    "print(*hn[:5], sep='\\n\\n')"
   ]
  },
  {
   "cell_type": "markdown",
   "id": "15d918b1",
   "metadata": {},
   "source": [
    "All good — the headers have been removed from `hn`! \n",
    "\n",
    "From the output above, we also notice that all the data types are `string`, although some of them are numbers (`row[3]` and `row[4]`) and dates (`row[-1]`) per se. We change `row[3]` and `row[4]` to `integer`:"
   ]
  },
  {
   "cell_type": "code",
   "execution_count": 4,
   "id": "3eda1df8",
   "metadata": {},
   "outputs": [],
   "source": [
    "for row in hn:\n",
    "    row[3] = int(row[3])\n",
    "    row[4] = int(row[4])"
   ]
  },
  {
   "cell_type": "markdown",
   "id": "0dab2d3f",
   "metadata": {},
   "source": [
    "We verify whether the data type for `row[3]` and `row[4]` have been changed to `integer`:"
   ]
  },
  {
   "cell_type": "code",
   "execution_count": 5,
   "id": "b6f8d31c",
   "metadata": {},
   "outputs": [
    {
     "name": "stdout",
     "output_type": "stream",
     "text": [
      "row[3]:  <class 'int'>\n",
      "row[4]:  <class 'int'>\n",
      "row[3]:  <class 'int'>\n",
      "row[4]:  <class 'int'>\n",
      "row[3]:  <class 'int'>\n",
      "row[4]:  <class 'int'>\n"
     ]
    }
   ],
   "source": [
    "# Verify whether `row[3]` and `row[4]` are `integer`:\n",
    "for row in hn[:3]:\n",
    "    print('row[3]: ', type(row[3]))\n",
    "    print('row[4]: ', type(row[4]))"
   ]
  },
  {
   "cell_type": "markdown",
   "id": "1875c60f",
   "metadata": {},
   "source": [
    "We will change `row[-1]` to the datetime object in the later section."
   ]
  },
  {
   "cell_type": "markdown",
   "id": "675f0520",
   "metadata": {},
   "source": [
    "### Seperating the post types"
   ]
  },
  {
   "cell_type": "markdown",
   "id": "3e506514",
   "metadata": {},
   "source": [
    "Before starting the analysis, we categorise all posts into three individual lists — `ask_posts`, `show_posts` and `other_post` — based on their post type. To achieve this, we group the posts with titles that start with `Ask HN` and `Show HN` into `ask_posts` and `show_posts` lists, respectively. For those posts which do not belong to any of the two categories, we gather them into the `other_posts` list."
   ]
  },
  {
   "cell_type": "code",
   "execution_count": 6,
   "id": "94781474",
   "metadata": {},
   "outputs": [],
   "source": [
    "# Create three empty lists to separate ask_posts, show_posts and other_posts\n",
    "ask_posts = []\n",
    "show_posts = []\n",
    "other_posts = []\n",
    "\n",
    "for row in hn:\n",
    "    # Change all characters into lowercase\n",
    "    title = row[1].lower()\n",
    "    \n",
    "    # Separate `ask hn` posts into their corresponding list\n",
    "    if title.startswith('ask hn'):\n",
    "        ask_posts.append(row)\n",
    "        \n",
    "    # Separate `show hn` posts into their corresponding list\n",
    "    elif title.startswith('show hn'):\n",
    "        show_posts.append(row)\n",
    "        \n",
    "    # Separate other posts into their corresponding list\n",
    "    else:\n",
    "        other_posts.append(row)"
   ]
  },
  {
   "cell_type": "markdown",
   "id": "55efee20",
   "metadata": {},
   "source": [
    "Let's inspect the first three rows of `ask_posts`, `show_posts` and `other_posts`, respectively."
   ]
  },
  {
   "cell_type": "code",
   "execution_count": 7,
   "id": "ad887d43",
   "metadata": {},
   "outputs": [
    {
     "name": "stdout",
     "output_type": "stream",
     "text": [
      "['12296411', 'Ask HN: How to improve my personal website?', '', 2, 6, 'ahmedbaracat', '8/16/2016 9:55']\n",
      "\n",
      "['10610020', 'Ask HN: Am I the only one outraged by Twitter shutting down share counts?', '', 28, 29, 'tkfx', '11/22/2015 13:43']\n",
      "\n",
      "['11610310', 'Ask HN: Aby recent changes to CSS that broke mobile?', '', 1, 1, 'polskibus', '5/2/2016 10:14']\n"
     ]
    }
   ],
   "source": [
    "print(*ask_posts[:3], sep='\\n\\n')"
   ]
  },
  {
   "cell_type": "code",
   "execution_count": 8,
   "id": "c7923c50",
   "metadata": {},
   "outputs": [
    {
     "name": "stdout",
     "output_type": "stream",
     "text": [
      "['10627194', 'Show HN: Wio Link  ESP8266 Based Web of Things Hardware Development Platform', 'https://iot.seeed.cc', 26, 22, 'kfihihc', '11/25/2015 14:03']\n",
      "\n",
      "['10646440', 'Show HN: Something pointless I made', 'http://dn.ht/picklecat/', 747, 102, 'dhotson', '11/29/2015 22:46']\n",
      "\n",
      "['11590768', 'Show HN: Shanhu.io, a programming playground powered by e8vm', 'https://shanhu.io', 1, 1, 'h8liu', '4/28/2016 18:05']\n"
     ]
    }
   ],
   "source": [
    "print(*show_posts[:3], sep='\\n\\n')"
   ]
  },
  {
   "cell_type": "code",
   "execution_count": 9,
   "id": "e103d2cf",
   "metadata": {},
   "outputs": [
    {
     "name": "stdout",
     "output_type": "stream",
     "text": [
      "['12224879', 'Interactive Dynamic Video', 'http://www.interactivedynamicvideo.com/', 386, 52, 'ne0phyte', '8/4/2016 11:52']\n",
      "\n",
      "['10975351', 'How to Use Open Source and Shut the Fuck Up at the Same Time', 'http://hueniverse.com/2016/01/26/how-to-use-open-source-and-shut-the-fuck-up-at-the-same-time/', 39, 10, 'josep2', '1/26/2016 19:30']\n",
      "\n",
      "['11964716', \"Florida DJs May Face Felony for April Fools' Water Joke\", 'http://www.thewire.com/entertainment/2013/04/florida-djs-april-fools-water-joke/63798/', 2, 1, 'vezycash', '6/23/2016 22:20']\n"
     ]
    }
   ],
   "source": [
    "print(*other_posts[:3], sep='\\n\\n')"
   ]
  },
  {
   "cell_type": "markdown",
   "id": "d9034c28",
   "metadata": {},
   "source": [
    "All good, the posts are separated according to our expectations! Now, we can dive deeper by using these lists."
   ]
  },
  {
   "cell_type": "markdown",
   "id": "b18b7815",
   "metadata": {},
   "source": [
    "---"
   ]
  },
  {
   "cell_type": "markdown",
   "id": "74a7bf29",
   "metadata": {},
   "source": [
    "## Computing the percentage of each of the post types"
   ]
  },
  {
   "cell_type": "markdown",
   "id": "99673dc8",
   "metadata": {},
   "source": [
    "The first question we ask ourselves is:\n",
    "> What are the percentages of each of the post types?\n",
    "\n",
    "We calculate the number and the percentage of posts in each of the lists as below:"
   ]
  },
  {
   "cell_type": "code",
   "execution_count": 10,
   "id": "a2ddd72f",
   "metadata": {},
   "outputs": [
    {
     "name": "stdout",
     "output_type": "stream",
     "text": [
      "                  Number of Posts     Percentage\n",
      "Ask HN                      1,744          8.68%\n",
      "Show HN                     1,162          5.78%\n",
      "Other HN                   17,194         85.54%\n"
     ]
    }
   ],
   "source": [
    "# Compute the total number of posts\n",
    "total_posts = len(ask_posts) + len(show_posts) + len(other_posts)\n",
    "\n",
    "print('{:14} {:>18} {:>14}'.format('', 'Number of Posts', 'Percentage'))\n",
    "print('{:14} {:>18,} {:>14.2%}'.format('Ask HN', len(ask_posts), len(ask_posts)/total_posts))\n",
    "print('{:14} {:>18,} {:>14.2%}'.format('Show HN', len(show_posts), len(show_posts)/total_posts))\n",
    "print('{:14} {:>18,} {:>14.2%}'.format('Other HN', len(other_posts), len(other_posts)/total_posts))"
   ]
  },
  {
   "cell_type": "markdown",
   "id": "25f90c9d",
   "metadata": {},
   "source": [
    "OOur analysis shows that the percentage of `Ask HN` is slightly higher than `Show HN`, whereas the percentage of `Other HN` is the greatest. \n",
    "\n",
    "What about the number of comments? Which of them receives more comments on average?"
   ]
  },
  {
   "cell_type": "markdown",
   "id": "83e1a863",
   "metadata": {},
   "source": [
    "---"
   ]
  },
  {
   "cell_type": "markdown",
   "id": "ca752b6b",
   "metadata": {},
   "source": [
    "## Calculating the average number of comments for `Ask HN` and `Show HN` posts"
   ]
  },
  {
   "cell_type": "markdown",
   "id": "2e0f406b",
   "metadata": {},
   "source": [
    "To determine whether the average number of comments of `ask_posts` or `show_posts` is higher, we create two functions:\n",
    "- `total_num()`: to compute the total number of comments (`row[4]`) or points (`row[3]`) for a given post type\n",
    "- `avg_num()`: to calculate the average number of comments (`row[4]`) or points (`row[3]`) for a given post type\n",
    "\n",
    "`post_type` refers to either `ask_posts`, `show_posts` or `other_posts`."
   ]
  },
  {
   "cell_type": "code",
   "execution_count": 11,
   "id": "ed2379fc",
   "metadata": {},
   "outputs": [],
   "source": [
    "# Compute the total number of comments or points\n",
    "def total_num(posts_type, col_index):\n",
    "    total_num = 0\n",
    "    for row in posts_type:\n",
    "        num = row[col_index]\n",
    "        total_num += num\n",
    "    return total_num"
   ]
  },
  {
   "cell_type": "code",
   "execution_count": 12,
   "id": "13badb18",
   "metadata": {},
   "outputs": [],
   "source": [
    "# Compute the average number of comments or points\n",
    "def avg_num(post_type, col_index):\n",
    "    avg = total_num(post_type, col_index) / len(post_type)\n",
    "    return avg"
   ]
  },
  {
   "cell_type": "markdown",
   "id": "ba78846c",
   "metadata": {},
   "source": [
    "By using these two functions, we obtain the total and average number of comments of `ask_posts` and `show_posts`."
   ]
  },
  {
   "cell_type": "code",
   "execution_count": 13,
   "id": "238b0467",
   "metadata": {},
   "outputs": [
    {
     "name": "stdout",
     "output_type": "stream",
     "text": [
      "                    Total      Average       Average Number in Percentage\n",
      "ask_posts          24,483         14.0                              57.6%\n",
      "show_posts         11,988         10.3                              42.4%\n"
     ]
    }
   ],
   "source": [
    "# For `ask_posts`\n",
    "total_ask_comments = total_num(ask_posts, 4) # Column index 4: number of comments\n",
    "avg_ask_comments = avg_num(ask_posts, 4)\n",
    "\n",
    "# For `show_posts`\n",
    "total_show_comments = total_num(show_posts, 4)\n",
    "avg_show_comments = avg_num(show_posts, 4)\n",
    "\n",
    "total_average = avg_ask_comments + avg_show_comments\n",
    "\n",
    "print('{:14} {:>10} {:>12} {:>34}'.format('', 'Total', 'Average', 'Average Number in Percentage'))\n",
    "print('{:14} {:>10,} {:>12.1f} {:>34.1%}'.format('ask_posts', total_ask_comments, avg_ask_comments, avg_ask_comments/total_average))\n",
    "print('{:14} {:>10,} {:>12.1f} {:>34.1%}'.format('show_posts', total_show_comments, avg_show_comments, avg_show_comments/total_average))"
   ]
  },
  {
   "cell_type": "markdown",
   "id": "987afd53",
   "metadata": {},
   "source": [
    "Based on our result, **`ask_posts` received more comments on average**. One of the possible reasons is that question-type of posts usually triggers more discussions, which contributes to the count of the comments."
   ]
  },
  {
   "cell_type": "markdown",
   "id": "551cbec6",
   "metadata": {},
   "source": [
    "---"
   ]
  },
  {
   "cell_type": "markdown",
   "id": "3c4c4233",
   "metadata": {},
   "source": [
    "## `Ask HN` posts — the best submission times with a higher chance of attracting comments"
   ]
  },
  {
   "cell_type": "markdown",
   "id": "968c47a9",
   "metadata": {},
   "source": [
    "Since `Ask HN` has a higher chance of obtaining more comments, we will focus on the analysis of `Ask HN` for the time being."
   ]
  },
  {
   "cell_type": "markdown",
   "id": "218c4fde",
   "metadata": {},
   "source": [
    "### Computing the number of `Ask HN` and comments by hour created"
   ]
  },
  {
   "cell_type": "markdown",
   "id": "d8eb931b",
   "metadata": {},
   "source": [
    "We are curious to find out:\n",
    "\n",
    "> At which creation time do the `Ask HN` posts obtain more comments?\n",
    "\n",
    "To answer this question, we need to determine:\n",
    "1. The number of `Ask HN` created on an hourly basis together with the number of comments received.\n",
    "2. The average number of comments obtained by `Ask HN` by the hour created."
   ]
  },
  {
   "cell_type": "markdown",
   "id": "5c62a55d",
   "metadata": {},
   "source": [
    "We create the **`posts_by_hour()` function to determine the numbers of a specific post type published every hour** and store them in a dictionary. The key and value of the dictionary are:\n",
    "- key: **hour**\n",
    "- value: **the number of posts published at the corresponding hours**\n",
    "\n",
    "Before the analysis, we import the `datetime` module to work with the time data. Now, let's analyse the `Ask HN` posts with `posts_by_hour()` and store the result in `askposts_posts_by_hour`."
   ]
  },
  {
   "cell_type": "code",
   "execution_count": 14,
   "id": "5f65b5d3",
   "metadata": {},
   "outputs": [],
   "source": [
    "import datetime as dt"
   ]
  },
  {
   "cell_type": "code",
   "execution_count": 15,
   "id": "8d3a5449",
   "metadata": {},
   "outputs": [],
   "source": [
    "# Determine the numbers of a specific post type created by the hour\n",
    "def posts_by_hour(post_type):\n",
    "    posts_by_hour = {}  # Key: hour; value: the number of posts created by the hour\n",
    "    \n",
    "    for row in post_type:\n",
    "        creation_time = row[-1]\n",
    "        \n",
    "        # Parse the date and create a datetime object\n",
    "        creation_time_dt = dt.datetime.strptime(creation_time, '%m/%d/%Y %H:%M')\n",
    "        \n",
    "        # Convert datetime object to a string and extract only the hour from the string\n",
    "        creation_time_str = creation_time_dt.strftime('%H')\n",
    "        \n",
    "        # Creating a frequency table\n",
    "        posts_by_hour[creation_time_str] = posts_by_hour.get(creation_time_str, 0) + 1\n",
    "        \n",
    "    return posts_by_hour"
   ]
  },
  {
   "cell_type": "code",
   "execution_count": 16,
   "id": "9d46da85",
   "metadata": {},
   "outputs": [
    {
     "data": {
      "text/plain": [
       "{'09': 45,\n",
       " '13': 85,\n",
       " '10': 59,\n",
       " '14': 107,\n",
       " '16': 108,\n",
       " '23': 68,\n",
       " '12': 73,\n",
       " '17': 100,\n",
       " '15': 116,\n",
       " '21': 109,\n",
       " '20': 80,\n",
       " '02': 58,\n",
       " '18': 109,\n",
       " '03': 54,\n",
       " '05': 46,\n",
       " '19': 110,\n",
       " '01': 60,\n",
       " '22': 71,\n",
       " '08': 48,\n",
       " '04': 47,\n",
       " '00': 55,\n",
       " '06': 44,\n",
       " '07': 34,\n",
       " '11': 58}"
      ]
     },
     "execution_count": 16,
     "metadata": {},
     "output_type": "execute_result"
    }
   ],
   "source": [
    "askposts_posts_by_hour = posts_by_hour(ask_posts)\n",
    "askposts_posts_by_hour"
   ]
  },
  {
   "cell_type": "markdown",
   "id": "3e0d1981",
   "metadata": {},
   "source": [
    "We construct **`num_by_hour()` to fetch the number (value) from either the `num_comments` or the `num_points` column during each hour (key) of the day** and store the result in a dictionary."
   ]
  },
  {
   "cell_type": "code",
   "execution_count": 17,
   "id": "be0b3a99",
   "metadata": {},
   "outputs": [],
   "source": [
    "# Extract the number from either the num_comments or the num_points column\n",
    "def num_by_hour(post_type, column_index):\n",
    "    num_by_hour = {}  # Key: hour; value: the number extracted from either the num_comments or the num_points\n",
    "    \n",
    "    for row in post_type:\n",
    "        creation_time = row[-1]\n",
    "        num = row[column_index]\n",
    "        \n",
    "        # Parse the date and create a datetime object\n",
    "        creation_time_dt = dt.datetime.strptime(creation_time, '%m/%d/%Y %H:%M')\n",
    "        \n",
    "        # Convert datetime object to a string and extract only the hour from the string\n",
    "        creation_time_str = creation_time_dt.strftime('%H')\n",
    "        \n",
    "        # Creating a frequency table\n",
    "        num_by_hour[creation_time_str] = num_by_hour.get(creation_time_str, num) + num\n",
    "        \n",
    "    return num_by_hour"
   ]
  },
  {
   "cell_type": "markdown",
   "id": "3269d7e9",
   "metadata": {},
   "source": [
    "We determine the number of comments received by `Ask HN` by the hour by using `num_by_hour()` and store the result in a dictionary returned by `askposts_comments_by_hour`."
   ]
  },
  {
   "cell_type": "code",
   "execution_count": 18,
   "id": "162b75d8",
   "metadata": {},
   "outputs": [
    {
     "data": {
      "text/plain": [
       "{'09': 257,\n",
       " '13': 1282,\n",
       " '10': 794,\n",
       " '14': 1419,\n",
       " '16': 1831,\n",
       " '23': 544,\n",
       " '12': 691,\n",
       " '17': 1147,\n",
       " '15': 4478,\n",
       " '21': 1749,\n",
       " '20': 1724,\n",
       " '02': 1384,\n",
       " '18': 1441,\n",
       " '03': 422,\n",
       " '05': 493,\n",
       " '19': 1191,\n",
       " '01': 716,\n",
       " '22': 481,\n",
       " '08': 497,\n",
       " '04': 340,\n",
       " '00': 457,\n",
       " '06': 398,\n",
       " '07': 269,\n",
       " '11': 643}"
      ]
     },
     "execution_count": 18,
     "metadata": {},
     "output_type": "execute_result"
    }
   ],
   "source": [
    "askposts_comments_by_hour = num_by_hour(ask_posts, 4)  # column_index 4 is `num_comments`\n",
    "askposts_comments_by_hour"
   ]
  },
  {
   "cell_type": "markdown",
   "id": "f630f9da",
   "metadata": {},
   "source": [
    "### Calculating the average number of comments for `Ask HN` posts by the hour"
   ]
  },
  {
   "cell_type": "markdown",
   "id": "65838a08",
   "metadata": {},
   "source": [
    "By using the two dictionaries created earlier, we could compute the average number of comments obtained for `Ask HN` by the hour of the day. For this purpose, we create a function named `avg_hourly()`, which returns a list of lists named `avg_num_hourly`. There are two elements in `avg_num_hourly` list, which are:\n",
    " - First element: the **hours** during which posts were created\n",
    " - Second element: the **average number of comments or points** those posts obtained"
   ]
  },
  {
   "cell_type": "code",
   "execution_count": 19,
   "id": "d7e4093c",
   "metadata": {},
   "outputs": [],
   "source": [
    "# Compute the average number of comments or points\n",
    "def avg_hourly(posts_by_hour, post_type, column_index):\n",
    "    avg_num_hourly = []\n",
    "\n",
    "    for hour, num_posts in posts_by_hour.items():  # num_posts is the number of posts created by the hour\n",
    "        num = num_by_hour(post_type, column_index)[hour]  # num is the number of comments or points received by the hour\n",
    "        avg_num_hourly.append([hour, round(num/num_posts, 2)])\n",
    "    \n",
    "    return avg_num_hourly"
   ]
  },
  {
   "cell_type": "markdown",
   "id": "ce51d2c0",
   "metadata": {},
   "source": [
    "Let's use the `avg_hourly()` function to compute the average number of comments per the number of `Ask HN` published during each hour of the day:"
   ]
  },
  {
   "cell_type": "code",
   "execution_count": 20,
   "id": "aa00833a",
   "metadata": {},
   "outputs": [
    {
     "data": {
      "text/plain": [
       "[['09', 5.71],\n",
       " ['13', 15.08],\n",
       " ['10', 13.46],\n",
       " ['14', 13.26],\n",
       " ['16', 16.95],\n",
       " ['23', 8.0],\n",
       " ['12', 9.47],\n",
       " ['17', 11.47],\n",
       " ['15', 38.6],\n",
       " ['21', 16.05],\n",
       " ['20', 21.55],\n",
       " ['02', 23.86],\n",
       " ['18', 13.22],\n",
       " ['03', 7.81],\n",
       " ['05', 10.72],\n",
       " ['19', 10.83],\n",
       " ['01', 11.93],\n",
       " ['22', 6.77],\n",
       " ['08', 10.35],\n",
       " ['04', 7.23],\n",
       " ['00', 8.31],\n",
       " ['06', 9.05],\n",
       " ['07', 7.91],\n",
       " ['11', 11.09]]"
      ]
     },
     "execution_count": 20,
     "metadata": {},
     "output_type": "execute_result"
    }
   ],
   "source": [
    "avg_askposts_hourly = avg_hourly(askposts_posts_by_hour, ask_posts, 4)  # column_index 4 is `num_comments`\n",
    "avg_askposts_hourly"
   ]
  },
  {
   "cell_type": "markdown",
   "id": "d431adac",
   "metadata": {},
   "source": [
    "Great! We have gotten the hourly average number of comments for `Ask HN`! "
   ]
  },
  {
   "cell_type": "markdown",
   "id": "1bef4e8d",
   "metadata": {},
   "source": [
    "### The top three hours to get maximum comments for `Ask HN`"
   ]
  },
  {
   "cell_type": "markdown",
   "id": "ed29d6cf",
   "metadata": {},
   "source": [
    "To make the list easier to read, we sort the values in descending order by using the average number of comments as keys."
   ]
  },
  {
   "cell_type": "code",
   "execution_count": 21,
   "id": "d4e16f5c",
   "metadata": {
    "scrolled": false
   },
   "outputs": [
    {
     "data": {
      "text/plain": [
       "[['15', 38.6],\n",
       " ['02', 23.86],\n",
       " ['20', 21.55],\n",
       " ['16', 16.95],\n",
       " ['21', 16.05],\n",
       " ['13', 15.08],\n",
       " ['10', 13.46],\n",
       " ['14', 13.26],\n",
       " ['18', 13.22],\n",
       " ['01', 11.93],\n",
       " ['17', 11.47],\n",
       " ['11', 11.09],\n",
       " ['19', 10.83],\n",
       " ['05', 10.72],\n",
       " ['08', 10.35],\n",
       " ['12', 9.47],\n",
       " ['06', 9.05],\n",
       " ['00', 8.31],\n",
       " ['23', 8.0],\n",
       " ['07', 7.91],\n",
       " ['03', 7.81],\n",
       " ['04', 7.23],\n",
       " ['22', 6.77],\n",
       " ['09', 5.71]]"
      ]
     },
     "execution_count": 21,
     "metadata": {},
     "output_type": "execute_result"
    }
   ],
   "source": [
    "# Sort the inner lists in a descending way by using element[1] (the average number) as a key\n",
    "avg_askposts_hourly_sortbynum = sorted(avg_askposts_hourly, key=lambda x:x[1], reverse=True)\n",
    "\n",
    "avg_askposts_hourly_sortbynum"
   ]
  },
  {
   "cell_type": "markdown",
   "id": "d57e1949",
   "metadata": {},
   "source": [
    "With the average number of comments displayed in descending order, we can print the top three hours for `Ask HN` comments by using the `top_three_hours()` function.\n",
    "\n",
    "This function displays the time from two timezones to make it convenient for readers from central Europe (our location) to read:\n",
    "\n",
    "|                          | Timezone      | Timezone abbreviation               | UTC offset |\n",
    "|--------------------------|---------------|-------------------------------------|------------|\n",
    "| Local HN publishing time | US/Eastern    | EDT (Eastern Daylight Time)         | UTC-4:00   |\n",
    "| Our time                 | Europe/Berlin | CEST (Central European Summer Time) | UTC+2:00   |\n",
    "\n",
    "\n",
    "**We convert the time from EDT to CEST by adding 6 hours to the EDT** by using a for loop, as the CEST is six hours ahead of the EDT. The time difference between these two timezones in the winter time is also six hours. We only use the summer time abbreviations here to make it simple.\n",
    "\n",
    "We use `top_three_hours()` function to do the pretty print. The parameters are as below:\n",
    "\n",
    "- **`avg_num_hourly_sortbynum`** : _list of lists_\n",
    "    - The average number of comments or points by the submission hour. The inner lists contain data in the format of `[hour, average number of comments or points]`, and they are **sorted by the number**. The hours follow the **EDT** timezone.\n",
    "\n",
    "- **`comments_or_points`** : _str_\n",
    "    - For printing the title. It indicates whether the results are associated with the average number of comments or points.\n",
    "\n",
    "- **`post_name`** : _str_\n",
    "    - For printing the title. It indicates whether the results are associated with `Ask HN`, `Show HN`, or other posts."
   ]
  },
  {
   "cell_type": "code",
   "execution_count": 22,
   "id": "c73db5eb",
   "metadata": {},
   "outputs": [],
   "source": [
    "def top_three_hours(avg_num_hourly_sortbynum, comments_or_points, post_name):\n",
    "    print('\\033[1m' + \"The Top Three Hours With the Highest Number of {} for {} \".format(comments_or_points, post_name) + '\\033[0m\\n')\n",
    "    print('{:^30} {:^30} {:^30}'.format('HN timezone', 'Our timezone', 'Average number per post'))\n",
    "    print('{:^30} {:^30}'.format('Hour (EDT / UTC-04:00)', 'Hour (CEST / UTC+02:00)'))\n",
    "    print('{:^30} {:^30} {:^30}'.format('-------------------------', '-------------------------', \n",
    "                                        '-------------------------'))\n",
    "    for innerlist in avg_num_hourly_sortbynum[:3]:\n",
    "        # HN posting time or EDT\n",
    "        hour_dt = dt.datetime.strptime(innerlist[0], '%H')\n",
    "        hour_str = hour_dt.strftime('%H:%M')\n",
    "        \n",
    "        # Our timezone CEST is 6 hours ahead of EDT\n",
    "        # Convert the `Hour` from EDT to CEST\n",
    "        cest_hour_dt = dt.datetime.strptime(innerlist[0], '%H') + dt.timedelta(hours=6)\n",
    "        cest_hour_str = cest_hour_dt.strftime('%H:%M')\n",
    "        \n",
    "        print('{:^30} {:^30} {:^30.2f}'.format(hour_str, cest_hour_str, innerlist[1]))"
   ]
  },
  {
   "cell_type": "code",
   "execution_count": 23,
   "id": "40febdaa",
   "metadata": {},
   "outputs": [
    {
     "name": "stdout",
     "output_type": "stream",
     "text": [
      "\u001b[1mThe Top Three Hours With the Highest Number of Comments for 'Ask HN' \u001b[0m\n",
      "\n",
      "         HN timezone                    Our timezone             Average number per post    \n",
      "    Hour (EDT / UTC-04:00)        Hour (CEST / UTC+02:00)    \n",
      "  -------------------------      -------------------------      -------------------------   \n",
      "            15:00                          21:00                          38.60             \n",
      "            02:00                          08:00                          23.86             \n",
      "            20:00                          02:00                          21.55             \n"
     ]
    }
   ],
   "source": [
    "# Print the top three hours with the most comments\n",
    "askposts_top_three_hours = top_three_hours(avg_askposts_hourly_sortbynum, \"Comments\", \"'Ask HN'\")\n",
    "askposts_top_three_hours"
   ]
  },
  {
   "cell_type": "markdown",
   "id": "28a6dba1",
   "metadata": {},
   "source": [
    "Interesting! The peak hours with the highest comments are far apart — **the top hour is at 15:00 EDT**, whereas the second and the third top hours are at 2:00 EDT and 20:00 EDT, respectively."
   ]
  },
  {
   "cell_type": "markdown",
   "id": "eef8959d",
   "metadata": {},
   "source": [
    "###  Visualisation of the top three hours with the maximum comments for `Ask HN`"
   ]
  },
  {
   "cell_type": "markdown",
   "id": "d2bfa842",
   "metadata": {},
   "source": [
    "We will use line plots to explore how the average number of comments for `Ask HN` evolves over the 24 hours, from 0:00 to 23:59, in two different timezones."
   ]
  },
  {
   "cell_type": "markdown",
   "id": "f86d66c2",
   "metadata": {},
   "source": [
    "First, we prepare the average number of comments in **CEST** by using the `edt_to_cest()` function."
   ]
  },
  {
   "cell_type": "code",
   "execution_count": 24,
   "id": "d3aa9ea1",
   "metadata": {},
   "outputs": [],
   "source": [
    "# Convert the `hour` from EDT to CEST\n",
    "def edt_to_cest(avg_num_hourly):\n",
    "    cest_hour_list = []\n",
    "    \n",
    "    for innerlist in avg_num_hourly:\n",
    "        # Our timezone CEST is 6 hours ahead of EDT\n",
    "        cest_hour_dt = dt.datetime.strptime(innerlist[0], '%H') + dt.timedelta(hours=6)\n",
    "        cest_hour_str = cest_hour_dt.strftime('%H')\n",
    "        \n",
    "        cest_hour_list.append([cest_hour_str, innerlist[1]])\n",
    "    return cest_hour_list"
   ]
  },
  {
   "cell_type": "code",
   "execution_count": 25,
   "id": "39fdbef3",
   "metadata": {},
   "outputs": [
    {
     "data": {
      "text/plain": [
       "[['15', 5.71],\n",
       " ['19', 15.08],\n",
       " ['16', 13.46],\n",
       " ['20', 13.26],\n",
       " ['22', 16.95],\n",
       " ['05', 8.0],\n",
       " ['18', 9.47],\n",
       " ['23', 11.47],\n",
       " ['21', 38.6],\n",
       " ['03', 16.05],\n",
       " ['02', 21.55],\n",
       " ['08', 23.86],\n",
       " ['00', 13.22],\n",
       " ['09', 7.81],\n",
       " ['11', 10.72],\n",
       " ['01', 10.83],\n",
       " ['07', 11.93],\n",
       " ['04', 6.77],\n",
       " ['14', 10.35],\n",
       " ['10', 7.23],\n",
       " ['06', 8.31],\n",
       " ['12', 9.05],\n",
       " ['13', 7.91],\n",
       " ['17', 11.09]]"
      ]
     },
     "execution_count": 25,
     "metadata": {},
     "output_type": "execute_result"
    }
   ],
   "source": [
    "cest_avg_askposts_hourly = edt_to_cest(avg_askposts_hourly)\n",
    "cest_avg_askposts_hourly"
   ]
  },
  {
   "cell_type": "markdown",
   "id": "64a0a2c5",
   "metadata": {},
   "source": [
    "Next, we **sort the hours in CEST** in descending order, from 0 to 23."
   ]
  },
  {
   "cell_type": "code",
   "execution_count": 26,
   "id": "5b2dce4e",
   "metadata": {},
   "outputs": [
    {
     "data": {
      "text/plain": [
       "[['00', 13.22],\n",
       " ['01', 10.83],\n",
       " ['02', 21.55],\n",
       " ['03', 16.05],\n",
       " ['04', 6.77],\n",
       " ['05', 8.0],\n",
       " ['06', 8.31],\n",
       " ['07', 11.93],\n",
       " ['08', 23.86],\n",
       " ['09', 7.81],\n",
       " ['10', 7.23],\n",
       " ['11', 10.72],\n",
       " ['12', 9.05],\n",
       " ['13', 7.91],\n",
       " ['14', 10.35],\n",
       " ['15', 5.71],\n",
       " ['16', 13.46],\n",
       " ['17', 11.09],\n",
       " ['18', 9.47],\n",
       " ['19', 15.08],\n",
       " ['20', 13.26],\n",
       " ['21', 38.6],\n",
       " ['22', 16.95],\n",
       " ['23', 11.47]]"
      ]
     },
     "execution_count": 26,
     "metadata": {},
     "output_type": "execute_result"
    }
   ],
   "source": [
    "# Sort the inner lists in a descending way by using element[0] (hour) as a key\n",
    "cest_avg_askposts_hourly_sortbyhour = sorted(cest_avg_askposts_hourly)\n",
    "cest_avg_askposts_hourly_sortbyhour"
   ]
  },
  {
   "cell_type": "markdown",
   "id": "7514927f",
   "metadata": {},
   "source": [
    "Similarly, we also **sort the hours in EDT**:"
   ]
  },
  {
   "cell_type": "code",
   "execution_count": 27,
   "id": "1f4810aa",
   "metadata": {},
   "outputs": [
    {
     "data": {
      "text/plain": [
       "[['00', 8.31],\n",
       " ['01', 11.93],\n",
       " ['02', 23.86],\n",
       " ['03', 7.81],\n",
       " ['04', 7.23],\n",
       " ['05', 10.72],\n",
       " ['06', 9.05],\n",
       " ['07', 7.91],\n",
       " ['08', 10.35],\n",
       " ['09', 5.71],\n",
       " ['10', 13.46],\n",
       " ['11', 11.09],\n",
       " ['12', 9.47],\n",
       " ['13', 15.08],\n",
       " ['14', 13.26],\n",
       " ['15', 38.6],\n",
       " ['16', 16.95],\n",
       " ['17', 11.47],\n",
       " ['18', 13.22],\n",
       " ['19', 10.83],\n",
       " ['20', 21.55],\n",
       " ['21', 16.05],\n",
       " ['22', 6.77],\n",
       " ['23', 8.0]]"
      ]
     },
     "execution_count": 27,
     "metadata": {},
     "output_type": "execute_result"
    }
   ],
   "source": [
    "# Sort the inner lists in a descending way by using element[0] (hour) as a key\n",
    "avg_askposts_hourly_sortbyhour = sorted(avg_askposts_hourly)\n",
    "avg_askposts_hourly_sortbyhour"
   ]
  },
  {
   "cell_type": "markdown",
   "id": "bf512cab",
   "metadata": {},
   "source": [
    "Now, we are going to use these data to plot two line plots both separately (each representing one timezone) and collectively, into a grid chart to make the comparison easier.\n",
    "\n",
    "For this purpose, we create a function named `grid_chart()`, which includes many parameters to ensure that it is flexible enough to accommodate the technical needs of different grid charts. The parameters are as below:\n",
    "\n",
    "- **`edt_avg_sortbyhour`** : _list of lists_\n",
    "    - The inner lists contain data in the format of `[hour, average number of comments or points]`, which are sorted by the _hours_ (`element[0]`). The hours follow the **EDT** timezone.\n",
    "\n",
    "- **`cest_avg_sortbyhour`** : _list of lists_\n",
    "    - The inner lists contain data in the format of `[hour, average number of comments or points]`, which are sorted by the _hours_ (`element[0]`). The hours follow the **CEST** timezone.\n",
    "\n",
    "- **`post_name`** : _str_\n",
    "    - For printing the figure title and subtitle. It indicates whether the plots are associated with `Ask HN`, `Show HN`, or `Other HN`.\n",
    "\n",
    "- **`comments_or_points`** : _str_\n",
    "    - For printing the figure title and subtitle. It indicates whether the plots are associated with the average number of comments or points.\n",
    "\n",
    "- **`h_figsize`** : _float_\n",
    "    - Height of figure in inches.\n",
    "\n",
    "- **`ylim_max`** : _float_\n",
    "    - Maximum y-axis view limits.\n",
    "\n",
    "- **`yticks`** : _list of floats_\n",
    "    - List of tick locations and labels of the y-axis.\n",
    "\n",
    "- **`annotation_filter`** : _float_\n",
    "    - Filter for annotation.\n",
    "\n",
    "- **`y_figsubtitle`** : _float_\n",
    "    - y-coordinate to place the text for figure subtitle.\n",
    "\n",
    "- **`y_ax_text`** : _float_\n",
    "    - y-coordinate to place the text for ax titles.\n",
    "\n",
    "- **`h_pad`** : _float_\n",
    "    - Height padding between edges of adjacent subplots."
   ]
  },
  {
   "cell_type": "code",
   "execution_count": 28,
   "id": "1e123a55",
   "metadata": {},
   "outputs": [],
   "source": [
    "import matplotlib.pyplot as plt\n",
    "# Run the necessary Jupyter magic so that plots are displayed inline\n",
    "%matplotlib inline\n",
    "\n",
    "import matplotlib.style as style\n",
    "\n",
    "# Add Matplotlib style\n",
    "style.use('ggplot')"
   ]
  },
  {
   "cell_type": "code",
   "execution_count": 29,
   "id": "23fa5b6d",
   "metadata": {},
   "outputs": [],
   "source": [
    "def grid_chart(edt_avg_sortbyhour, cest_avg_sortbyhour, post_name, comments_or_points, \n",
    "               h_figsize, ylim_max, yticks, annotation_filter, y_figsubtitle, y_ax_text, h_pad):\n",
    "    \n",
    "    # Create line plots\n",
    "    fig, [ax1, ax2, ax3] = plt.subplots(3, 1, figsize=(15, h_figsize))\n",
    "    axes = [ax1, ax2, ax3]\n",
    "    \n",
    "    # Prepare the axes for ax1 by looping through `edt_avg_sortbyhour`\n",
    "    x_ax1 = []\n",
    "    y_ax1 = []\n",
    "    for row in edt_avg_sortbyhour:\n",
    "        x_ax1.append(row[0])\n",
    "        y_ax1.append(row[1])\n",
    "\n",
    "    # Prepare the axes for ax2 by looping through `cest_avg_sortbyhour`\n",
    "    x_ax2 = []\n",
    "    y_ax2 = []\n",
    "    for row in cest_avg_sortbyhour:\n",
    "        x_ax2.append(row[0])\n",
    "        y_ax2.append(row[1])\n",
    "    \n",
    "    # Plot line plots\n",
    "    ax1.plot(x_ax1, y_ax1, linewidth=1.5, color='green')\n",
    "    ax2.plot(x_ax2, y_ax2, linewidth=1.5, color='#9450B3')\n",
    "    ax3.plot(x_ax1, y_ax1, linewidth=1.5, color='green', label='EDT')\n",
    "    ax3.plot(x_ax2, y_ax2, linewidth=1.5, color='#9450B3', label='CEST')\n",
    "\n",
    "    # Place a legend & remove the frame\n",
    "    ax3.legend(frameon=False)\n",
    "\n",
    "    for ax in axes:\n",
    "        # Setting the facecolor of the axis to white\n",
    "        ax.set_facecolor(color='#ffffff')\n",
    "\n",
    "        # Changing the color of grid to a lighter color\n",
    "        ax.grid(color='#f0f0f0')\n",
    "\n",
    "        # Remove the ticks\n",
    "        ax.tick_params(left=False, bottom=False)\n",
    "\n",
    "        # Setting tick label color\n",
    "        ax.tick_params(colors='#9E9E9E', which='both')\n",
    "\n",
    "        # Setting the x limit\n",
    "        ax.set_xlim(-1, 26)\n",
    "        \n",
    "        # Setting the y limit\n",
    "        ax.set_ylim(0, ylim_max)\n",
    "        \n",
    "        # Add the labels for x-ticks\n",
    "        ax.set_xticks([0, 2, 4, 6, 8, 10, 12, 14, 16, 18, 20, 22])\n",
    "\n",
    "        # Add the labels for y-ticks\n",
    "        ax.set_yticks(yticks)\n",
    "        \n",
    "    # Annotate plots for EDT\n",
    "    for i,j in zip(x_ax1,y_ax1):\n",
    "        # ax1 annotation\n",
    "        if j > annotation_filter:\n",
    "            ax1.annotate(j, xy=(i, j), xytext=(0, 8), textcoords='offset points',\n",
    "                         ha='center', size=12, color='#424245')\n",
    "            ax3.annotate(j, xy=(i, j), xytext=(0, 8), textcoords='offset points',\n",
    "                         ha='center', size=12, color='#424245')\n",
    "    \n",
    "    # Annotate plots for CEST\n",
    "    for a,b in zip(x_ax2,y_ax2):\n",
    "        # ax2 annotation\n",
    "        if b > annotation_filter:\n",
    "            ax2.annotate(b, xy=(a, b), xytext=(0, 8), textcoords='offset points',\n",
    "                         ha='center', size=12, color='#424245')\n",
    "            ax3.annotate(b, xy=(a, b), xytext=(0, 8), textcoords='offset points',\n",
    "                         ha='center', size=12, color='#424245')\n",
    "    \n",
    "    # Extract the peak hour with the highest number of comments or points\n",
    "    edt_max_hour = max(edt_avg_sortbyhour, key=lambda x:x[1])  # EDT\n",
    "    cest_max_hour = max(cest_avg_sortbyhour, key=lambda x:x[1])  # CEST\n",
    "    \n",
    "    # Add figure title\n",
    "    ax1.text(x=-1.6, y=91, s='{} posts obtained the highest average number of {} \\nat {} EDT or {} CEST'.format(post_name, comments_or_points, edt_max_hour[0], cest_max_hour[0]), \n",
    "             size=24, weight='bold')\n",
    "\n",
    "    # Add figure subtitle\n",
    "    ax1.text(x=-1.6, y=y_figsubtitle, s='The average number of {} for {} created during each hour of the day'.format(comments_or_points, post_name), size=18)\n",
    "\n",
    "    # Add ax titles\n",
    "    ax1.text(x=-1.6, y=y_ax_text, s='Local HN publishing time (US/Eastern) — EDT ', size=14, color='#424245')\n",
    "    ax2.text(x=-1.6, y=y_ax_text, s='Our time (Europe/Berlin) — CEST', size=14, color='#424245')\n",
    "    ax3.text(x=-1.6, y=y_ax_text, s='Combination — EDT and CEST', size=14, color='#424245')\n",
    "\n",
    "    # Adding Signature Bar\n",
    "    ax.text(x=-1.6, y=-20, s='©SPWong' + ' '*155 + 'Source: https://dq-content.s3.amazonaws.com/356/hacker_news.csv',\n",
    "           color='#ffffff', backgroundcolor='#757575', size=11)\n",
    "\n",
    "    # Adding spacing between subplots\n",
    "    fig.tight_layout(h_pad=h_pad)\n",
    "\n",
    "    plt.show()"
   ]
  },
  {
   "cell_type": "markdown",
   "id": "8ed96559",
   "metadata": {},
   "source": [
    "Now, we use the `grid_chart()` function to plot a grid chart for the average number of comments received by `Ask HN` by the hour in two different timezones.\n",
    "\n",
    "The line plots are as below:\n",
    "\n",
    "- **ax1**: Local HN creation time or EDT — the result is stored in `avg_askposts_hourly_sortbyhour`\n",
    "\n",
    "- **ax2**: Our time or CEST — the result is stored in `cest_avg_askposts_hourly_sortbyhour`\n",
    "\n",
    "- **ax3**: Combination of ax1 and ax2"
   ]
  },
  {
   "cell_type": "code",
   "execution_count": 30,
   "id": "9fa15403",
   "metadata": {},
   "outputs": [
    {
     "data": {
      "image/png": "[encoded data removed]",
      "text/plain": [
       "<Figure size 1080x936 with 3 Axes>"
      ]
     },
     "metadata": {},
     "output_type": "display_data"
    }
   ],
   "source": [
    "grid_chart_askposts_comments = grid_chart(avg_askposts_hourly_sortbyhour, \n",
    "                                          cest_avg_askposts_hourly_sortbyhour, post_name=\"'Ask HN'\", \n",
    "                                          comments_or_points='comments', h_figsize=13, ylim_max=45, \n",
    "                                          yticks=[0, 10, 20, 30, 40], annotation_filter=20, \n",
    "                                          y_figsubtitle=78, y_ax_text=52, h_pad=3.5)"
   ]
  },
  {
   "cell_type": "markdown",
   "id": "9b597f52",
   "metadata": {},
   "source": [
    "Our result demonstrates that the best time to publish a `Ask HN` with the highest chance of getting comments are (in descending order):\n",
    "- 15:00 - 16:00 EDT (or 21:00 - 22:00 CEST)\n",
    "- 2:00 - 3:00 EDT (or 8:00 - 9:00 CEST)\n",
    "- 20:00 - 21:00 EDT (or 2:00 - 3:00 CEST)\n",
    "\n",
    "**The individual best time spans from EDT late afternoon to slightly after midnight**. This suggests that users might be too busy to comment on posts in the morning, whereas they might be a little bit more relaxed from the afternoon onwards. This is based on the assumption that most users are from the United States, the founding location of Hacker News.\n",
    "\n",
    "Intriguingly, we also notice that **three of the best submission times are far apart**. There is no gradual increase in the number of comments within the peak hour periods, but rather **short-term spikes in activity which last on average no more than an hour**. We would need to do more research to understand this user behaviour.\n",
    "\n",
    "Another interesting observation is that 2:00 is the best time for both EDT and CEST timezones. We speculate that those activities are associated with night owl users. **If one is targeting readers from both the US and Europe, 2:00 EDT and CEST are the best times for publishing posts**."
   ]
  },
  {
   "cell_type": "markdown",
   "id": "2370bbc9",
   "metadata": {},
   "source": [
    "---"
   ]
  },
  {
   "cell_type": "markdown",
   "id": "342ed805",
   "metadata": {},
   "source": [
    "## `Ask HN` or `Show HN` posts — which of them has a higher approval rate?"
   ]
  },
  {
   "cell_type": "markdown",
   "id": "dd99d122",
   "metadata": {},
   "source": [
    "Let's investigate another interesting question:\n",
    "> Does `Ask HN` or `Show HN` have a higher approval rate?\n",
    "\n",
    "For this analysis, the approval rate of a post is measured by the number of points a post received. The number of points is recorded in column index 3, and they are calculated as follows:\n",
    "\n",
    "```\n",
    "num_points = the total number of upvotes - the total number of downvotes\n",
    "```\n",
    "\n",
    "Let's use the functions that we created earlier, `total_num()` and `avg_num()`, to calculate the total and average number of points on `ask_posts` and `show_posts`."
   ]
  },
  {
   "cell_type": "code",
   "execution_count": 31,
   "id": "9f2f4213",
   "metadata": {},
   "outputs": [
    {
     "name": "stdout",
     "output_type": "stream",
     "text": [
      "                    Total      Average       Average Number in Percentage\n",
      "ask_posts          26,268         15.1                              35.3%\n",
      "show_posts         32,019         27.6                              64.7%\n"
     ]
    }
   ],
   "source": [
    "# For `ask_posts`\n",
    "total_ask_points = total_num(ask_posts, 3) # column index 3: number of points\n",
    "avg_ask_points = avg_num(ask_posts, 3)\n",
    "\n",
    "# For `show_posts`\n",
    "total_show_points = total_num(show_posts, 3)\n",
    "avg_show_points = avg_num(show_posts, 3)\n",
    "\n",
    "total_average = avg_ask_points + avg_show_points\n",
    "\n",
    "print('{:14} {:>10} {:>12} {:>34}'.format('', 'Total', 'Average', 'Average Number in Percentage'))\n",
    "print('{:14} {:>10,} {:>12.1f} {:>34.1%}'.format('ask_posts', total_ask_points, avg_ask_points, avg_ask_points/total_average))\n",
    "print('{:14} {:>10,} {:>12.1f} {:>34.1%}'.format('show_posts', total_show_points, avg_show_points, avg_show_points/total_average))"
   ]
  },
  {
   "cell_type": "markdown",
   "id": "69b2df1b",
   "metadata": {},
   "source": [
    "Interesting! **`Show HN` posts have a significantly higher approval rate**, although `Ask HN` receives more comments on average. One of the possible explanations is that the sharing type of posts resonates with readers easily, albeit it does not necessarily trigger more discussions."
   ]
  },
  {
   "cell_type": "markdown",
   "id": "5b35ff5d",
   "metadata": {},
   "source": [
    "---"
   ]
  },
  {
   "cell_type": "markdown",
   "id": "bd48e462",
   "metadata": {},
   "source": [
    "##  `Show HN` posts — the best submission times with a higher chance of getting a higher approval rate"
   ]
  },
  {
   "cell_type": "markdown",
   "id": "7d22683c",
   "metadata": {},
   "source": [
    "Knowing that `Show HN` posts obtain a higher approval rate prompts us to ask a deeper question:\n",
    "\n",
    "> At what submission time do `Show HN` posts more likely to gain a higher approval rate?"
   ]
  },
  {
   "cell_type": "markdown",
   "id": "0db7ddf3",
   "metadata": {},
   "source": [
    "### Finding the number of `Show HN` and points by the submission hour"
   ]
  },
  {
   "cell_type": "markdown",
   "id": "0c24437d",
   "metadata": {},
   "source": [
    "To answer this question, we apply similar approaches as the earlier section and use the functions that were built earlier.\n",
    "\n",
    "First, we use the `posts_by_hour()` function to compute the number of `Show HN` submitted by the hour and store the result in the `showposts_posts_by_hour` variable. `showposts_posts_by_hour` returns a dictionary, with the key and value as below:\n",
    "- key: **hour**\n",
    "- value: **the number of `Show HN` posts submitted** on a hourly basis"
   ]
  },
  {
   "cell_type": "code",
   "execution_count": 32,
   "id": "c16c9e11",
   "metadata": {},
   "outputs": [
    {
     "data": {
      "text/plain": [
       "{'14': 86,\n",
       " '22': 46,\n",
       " '18': 61,\n",
       " '07': 26,\n",
       " '20': 60,\n",
       " '05': 19,\n",
       " '16': 93,\n",
       " '19': 55,\n",
       " '15': 78,\n",
       " '03': 27,\n",
       " '17': 93,\n",
       " '06': 16,\n",
       " '02': 30,\n",
       " '13': 99,\n",
       " '08': 34,\n",
       " '21': 47,\n",
       " '04': 26,\n",
       " '11': 44,\n",
       " '12': 61,\n",
       " '23': 36,\n",
       " '09': 30,\n",
       " '01': 28,\n",
       " '10': 36,\n",
       " '00': 31}"
      ]
     },
     "execution_count": 32,
     "metadata": {},
     "output_type": "execute_result"
    }
   ],
   "source": [
    "showposts_posts_by_hour = posts_by_hour(show_posts)\n",
    "showposts_posts_by_hour"
   ]
  },
  {
   "cell_type": "markdown",
   "id": "4024fe10",
   "metadata": {},
   "source": [
    "Next, we compute the number of points obtained by `Show HN` by the hour by using `num_by_hour()` and store the result in a variable named `showposts_points_by_hour`."
   ]
  },
  {
   "cell_type": "code",
   "execution_count": 33,
   "id": "3f5880fb",
   "metadata": {},
   "outputs": [
    {
     "data": {
      "text/plain": [
       "{'14': 2213,\n",
       " '22': 2603,\n",
       " '18': 2216,\n",
       " '07': 497,\n",
       " '20': 1820,\n",
       " '05': 107,\n",
       " '16': 2642,\n",
       " '19': 1708,\n",
       " '15': 2271,\n",
       " '03': 687,\n",
       " '17': 2526,\n",
       " '06': 379,\n",
       " '02': 344,\n",
       " '13': 2439,\n",
       " '08': 524,\n",
       " '21': 871,\n",
       " '04': 399,\n",
       " '11': 1482,\n",
       " '12': 2550,\n",
       " '23': 1535,\n",
       " '09': 562,\n",
       " '01': 709,\n",
       " '10': 683,\n",
       " '00': 1182}"
      ]
     },
     "execution_count": 33,
     "metadata": {},
     "output_type": "execute_result"
    }
   ],
   "source": [
    "showposts_points_by_hour = num_by_hour(show_posts, 3)  # column_index 3 is `num_points`\n",
    "showposts_points_by_hour"
   ]
  },
  {
   "cell_type": "markdown",
   "id": "072bdc7e",
   "metadata": {},
   "source": [
    "### Computing the average number of points for `Show HN` posts on an hourly basis"
   ]
  },
  {
   "cell_type": "markdown",
   "id": "b99e20b6",
   "metadata": {},
   "source": [
    "We use the `avg_hourly()` function to compute the average number of points per the number of `Show HN` created during each hour of the day:"
   ]
  },
  {
   "cell_type": "code",
   "execution_count": 34,
   "id": "2ec6f956",
   "metadata": {},
   "outputs": [
    {
     "data": {
      "text/plain": [
       "[['14', 25.73],\n",
       " ['22', 56.59],\n",
       " ['18', 36.33],\n",
       " ['07', 19.12],\n",
       " ['20', 30.33],\n",
       " ['05', 5.63],\n",
       " ['16', 28.41],\n",
       " ['19', 31.05],\n",
       " ['15', 29.12],\n",
       " ['03', 25.44],\n",
       " ['17', 27.16],\n",
       " ['06', 23.69],\n",
       " ['02', 11.47],\n",
       " ['13', 24.64],\n",
       " ['08', 15.41],\n",
       " ['21', 18.53],\n",
       " ['04', 15.35],\n",
       " ['11', 33.68],\n",
       " ['12', 41.8],\n",
       " ['23', 42.64],\n",
       " ['09', 18.73],\n",
       " ['01', 25.32],\n",
       " ['10', 18.97],\n",
       " ['00', 38.13]]"
      ]
     },
     "execution_count": 34,
     "metadata": {},
     "output_type": "execute_result"
    }
   ],
   "source": [
    "avg_showposts_hourly = avg_hourly(showposts_posts_by_hour, show_posts, 3)  # column_index 3 is `num_points`\n",
    "avg_showposts_hourly"
   ]
  },
  {
   "cell_type": "markdown",
   "id": "ccc1b48c",
   "metadata": {},
   "source": [
    "### The top three hours to get the highest number of points for `Show HN`"
   ]
  },
  {
   "cell_type": "markdown",
   "id": "d1750783",
   "metadata": {},
   "source": [
    "We sort the inner lists in descending order by using the average number of points as keys."
   ]
  },
  {
   "cell_type": "code",
   "execution_count": 35,
   "id": "a30f6406",
   "metadata": {},
   "outputs": [
    {
     "data": {
      "text/plain": [
       "[['22', 56.59],\n",
       " ['23', 42.64],\n",
       " ['12', 41.8],\n",
       " ['00', 38.13],\n",
       " ['18', 36.33],\n",
       " ['11', 33.68],\n",
       " ['19', 31.05],\n",
       " ['20', 30.33],\n",
       " ['15', 29.12],\n",
       " ['16', 28.41],\n",
       " ['17', 27.16],\n",
       " ['14', 25.73],\n",
       " ['03', 25.44],\n",
       " ['01', 25.32],\n",
       " ['13', 24.64],\n",
       " ['06', 23.69],\n",
       " ['07', 19.12],\n",
       " ['10', 18.97],\n",
       " ['09', 18.73],\n",
       " ['21', 18.53],\n",
       " ['08', 15.41],\n",
       " ['04', 15.35],\n",
       " ['02', 11.47],\n",
       " ['05', 5.63]]"
      ]
     },
     "execution_count": 35,
     "metadata": {},
     "output_type": "execute_result"
    }
   ],
   "source": [
    "# Sort the inner lists in a descending way by using element[1] (the average number) as a key\n",
    "avg_showposts_hourly_sortbynum = sorted(avg_showposts_hourly, key=lambda x:x[1], reverse=True)\n",
    "avg_showposts_hourly_sortbynum"
   ]
  },
  {
   "cell_type": "markdown",
   "id": "7c80dc8f",
   "metadata": {},
   "source": [
    "Now, let's use the `top_three_hours()` function to print the best three hours of getting the highest number of points in `Show HN`."
   ]
  },
  {
   "cell_type": "code",
   "execution_count": 36,
   "id": "6a7a50c1",
   "metadata": {},
   "outputs": [
    {
     "name": "stdout",
     "output_type": "stream",
     "text": [
      "\u001b[1mThe Top Three Hours With the Highest Number of Points for 'Show HN' \u001b[0m\n",
      "\n",
      "         HN timezone                    Our timezone             Average number per post    \n",
      "    Hour (EDT / UTC-04:00)        Hour (CEST / UTC+02:00)    \n",
      "  -------------------------      -------------------------      -------------------------   \n",
      "            22:00                          04:00                          56.59             \n",
      "            23:00                          05:00                          42.64             \n",
      "            12:00                          18:00                          41.80             \n"
     ]
    }
   ],
   "source": [
    "# Print the top three hours with the highest number of points\n",
    "showposts_top_three_hours = top_three_hours(avg_showposts_hourly_sortbynum, \"Points\", \"'Show HN'\")\n",
    "showposts_top_three_hours"
   ]
  },
  {
   "cell_type": "markdown",
   "id": "6620aadf",
   "metadata": {},
   "source": [
    "Surprisingly, **the top three hours** for the average number of points for `Show HN` are **very different** from the average number of comments for `Ask HN`. Another remarkable observation is that **the top two hours, i.e. 22:00 and 23:00 EDT, are consecutive** — a very distinct pattern from the result of `Ask HN`. "
   ]
  },
  {
   "cell_type": "markdown",
   "id": "b237f407",
   "metadata": {},
   "source": [
    "###  Visualisation of the top three hours with the highest number of points for `Show HN`"
   ]
  },
  {
   "cell_type": "markdown",
   "id": "9d598991",
   "metadata": {},
   "source": [
    "Let's look at how the average number of points for `Show HN` changes over 24 hours in two different timezones.\n",
    "\n",
    "Same as the previous analysis, we use `edt_to_cest()` to compute the average number of points for `Show HN` **in CEST**."
   ]
  },
  {
   "cell_type": "code",
   "execution_count": 37,
   "id": "126e505b",
   "metadata": {},
   "outputs": [
    {
     "data": {
      "text/plain": [
       "[['20', 25.73],\n",
       " ['04', 56.59],\n",
       " ['00', 36.33],\n",
       " ['13', 19.12],\n",
       " ['02', 30.33],\n",
       " ['11', 5.63],\n",
       " ['22', 28.41],\n",
       " ['01', 31.05],\n",
       " ['21', 29.12],\n",
       " ['09', 25.44],\n",
       " ['23', 27.16],\n",
       " ['12', 23.69],\n",
       " ['08', 11.47],\n",
       " ['19', 24.64],\n",
       " ['14', 15.41],\n",
       " ['03', 18.53],\n",
       " ['10', 15.35],\n",
       " ['17', 33.68],\n",
       " ['18', 41.8],\n",
       " ['05', 42.64],\n",
       " ['15', 18.73],\n",
       " ['07', 25.32],\n",
       " ['16', 18.97],\n",
       " ['06', 38.13]]"
      ]
     },
     "execution_count": 37,
     "metadata": {},
     "output_type": "execute_result"
    }
   ],
   "source": [
    "# Convert the `hour` from EDT to CEST\n",
    "cest_avg_showposts_hourly = edt_to_cest(avg_showposts_hourly)\n",
    "cest_avg_showposts_hourly"
   ]
  },
  {
   "cell_type": "markdown",
   "id": "8fa207c6",
   "metadata": {},
   "source": [
    "Afterwards, we sort the average number of points of **CEST** in the order of 0 to 23 hours."
   ]
  },
  {
   "cell_type": "code",
   "execution_count": 38,
   "id": "63f1ba80",
   "metadata": {},
   "outputs": [
    {
     "data": {
      "text/plain": [
       "[[0, 36.33],\n",
       " [1, 31.05],\n",
       " [2, 30.33],\n",
       " [3, 18.53],\n",
       " [4, 56.59],\n",
       " [5, 42.64],\n",
       " [6, 38.13],\n",
       " [7, 25.32],\n",
       " [8, 11.47],\n",
       " [9, 25.44],\n",
       " [10, 15.35],\n",
       " [11, 5.63],\n",
       " [12, 23.69],\n",
       " [13, 19.12],\n",
       " [14, 15.41],\n",
       " [15, 18.73],\n",
       " [16, 18.97],\n",
       " [17, 33.68],\n",
       " [18, 41.8],\n",
       " [19, 24.64],\n",
       " [20, 25.73],\n",
       " [21, 29.12],\n",
       " [22, 28.41],\n",
       " [23, 27.16]]"
      ]
     },
     "execution_count": 38,
     "metadata": {},
     "output_type": "execute_result"
    }
   ],
   "source": [
    "# Sort the inner lists in a descending way by using element[0] (hour) as a key\n",
    "cest_avg_showposts_hourly_sortbyhour = sorted(cest_avg_showposts_hourly)\n",
    "\n",
    "for innerlist in cest_avg_showposts_hourly_sortbyhour:\n",
    "    innerlist[0] = int(innerlist[0])\n",
    "\n",
    "cest_avg_showposts_hourly_sortbyhour"
   ]
  },
  {
   "cell_type": "markdown",
   "id": "646059f0",
   "metadata": {},
   "source": [
    "Likewise, we sort the hours of the data in **EDT** from 0 to 24 hours:"
   ]
  },
  {
   "cell_type": "code",
   "execution_count": 39,
   "id": "08b6b9b4",
   "metadata": {},
   "outputs": [
    {
     "data": {
      "text/plain": [
       "[[0, 38.13],\n",
       " [1, 25.32],\n",
       " [2, 11.47],\n",
       " [3, 25.44],\n",
       " [4, 15.35],\n",
       " [5, 5.63],\n",
       " [6, 23.69],\n",
       " [7, 19.12],\n",
       " [8, 15.41],\n",
       " [9, 18.73],\n",
       " [10, 18.97],\n",
       " [11, 33.68],\n",
       " [12, 41.8],\n",
       " [13, 24.64],\n",
       " [14, 25.73],\n",
       " [15, 29.12],\n",
       " [16, 28.41],\n",
       " [17, 27.16],\n",
       " [18, 36.33],\n",
       " [19, 31.05],\n",
       " [20, 30.33],\n",
       " [21, 18.53],\n",
       " [22, 56.59],\n",
       " [23, 42.64]]"
      ]
     },
     "execution_count": 39,
     "metadata": {},
     "output_type": "execute_result"
    }
   ],
   "source": [
    "# Sort the inner lists in a descending way by using element[0] (hour) as a key\n",
    "avg_showposts_hourly_sortbyhour = sorted(avg_showposts_hourly)\n",
    "\n",
    "for innerlist in avg_showposts_hourly_sortbyhour:\n",
    "    innerlist[0] = int(innerlist[0])\n",
    "\n",
    "avg_showposts_hourly_sortbyhour"
   ]
  },
  {
   "cell_type": "markdown",
   "id": "c44cdc7b",
   "metadata": {},
   "source": [
    "Let's to plot a grid chart for the average number of points earned by `Show HN` by the hour in two different timezones.\n",
    "\n",
    "These are the line plots:\n",
    "\n",
    "- **ax1**: Local HN creation time or EDT — the result is stored in `avg_showposts_hourly_sortbyhour`\n",
    "\n",
    "- **ax2**: Our time or CEST — the result is stored in `cest_avg_showposts_hourly_sortbyhour`\n",
    "\n",
    "- **ax3**: Combination of ax1 and ax2"
   ]
  },
  {
   "cell_type": "code",
   "execution_count": 40,
   "id": "cff82fcb",
   "metadata": {},
   "outputs": [
    {
     "data": {
      "image/png": "[encoded data removed]",
      "text/plain": [
       "<Figure size 1080x1296 with 3 Axes>"
      ]
     },
     "metadata": {},
     "output_type": "display_data"
    }
   ],
   "source": [
    "grid_chart_askposts_comments = grid_chart(avg_showposts_hourly_sortbyhour, \n",
    "                                          cest_avg_showposts_hourly_sortbyhour, post_name='Show HN',\n",
    "                                          comments_or_points='points', h_figsize=18, ylim_max=60, \n",
    "                                          yticks=[0, 10, 20, 30, 40, 50, 60], annotation_filter=38, \n",
    "                                          y_figsubtitle=82, y_ax_text=67, h_pad=5)"
   ]
  },
  {
   "cell_type": "markdown",
   "id": "84d05409",
   "metadata": {},
   "source": [
    "The line plots demonstrate to us a pattern that is otherwise difficult to notice by just looking at the numbers. In this case, we detected **two time periods**, which are associated with the **active approval number for `Show HN`**: \n",
    "\n",
    "- **22:00 to 1:00 EDT** (equivalent to 4:00 to 7:00 CEST)\n",
    "- **11:00 to 13:00 EDT** (equivalent to 17:00 to 18:00 CEST)\n",
    "\n",
    "The results suggest that users are more likely to read and approve shared posts in the **late evening to slightly after midnight and around lunchtime (based on EDT)**, presumably due to the availability of free time during these hours. These hours are the best time for anyone who aims to share a post on HN and receive a high approval rate.\n",
    "\n",
    "In the earlier section, we speculated that **most of the comments for `Ask HN` were from the US**. The **CEST** line plot for `Show Post` in this analysis supports the earlier speculation, as evidenced by the fact that the peak hours for receiving points are **between 4:00 - 6:00**, which is supposedly the sleeping time for the majority of the people in the CEST timezone. Of course, we couldn't rule out the involvement of some night owls being active on HN at these hours, but it is most likely only a small number of people."
   ]
  },
  {
   "cell_type": "markdown",
   "id": "aee147eb",
   "metadata": {},
   "source": [
    "---"
   ]
  },
  {
   "cell_type": "markdown",
   "id": "94c22cd2",
   "metadata": {},
   "source": [
    "## Conclusion"
   ]
  },
  {
   "cell_type": "markdown",
   "id": "8860a9cc",
   "metadata": {},
   "source": [
    "This project aims to study the post types (`Ask HN` or `Show HN`) that obtain the most number of comments and points and their associated publishing times. We accomplish this analysis by using basic Python techniques, customised functions and Matplotlib. Our analysis demonstrate that:\n",
    "\n",
    "- The prime time to get **a high number of comments for `Ask HN`** are **15:00 - 16:00, 2:00 - 3:00 and 20:00 - 21:00 EDT** (or 21:00 - 22:00, 8:00 - 9:00 and 2:00 - 3:00 CEST).\n",
    "\n",
    "- The best times to publish a **`Share HN`** post with **a high approval rate** are between **22:00 - 1:00 EDT** and **11:00 - 13:00 EDT** (or 4:00 - 7:00 and 17:00 - 18:00 CEST).\n",
    "\n",
    "- The excellent times for getting a high number of comments for `Ask HN` and a high approval rate for`Show HN` are different.\n",
    "\n",
    "- Based on the data, we deduce the majority of the responses, be they comments or points, are possibly submitted by **users from the US or those countries in the nearer timezone**."
   ]
  }
 ],
 "metadata": {
  "kernelspec": {
   "display_name": "Python 3 (ipykernel)",
   "language": "python",
   "name": "python3"
  },
  "language_info": {
   "codemirror_mode": {
    "name": "ipython",
    "version": 3
   },
   "file_extension": ".py",
   "mimetype": "text/x-python",
   "name": "python",
   "nbconvert_exporter": "python",
   "pygments_lexer": "ipython3",
   "version": "3.8.8"
  },
  "toc": {
   "base_numbering": 1,
   "nav_menu": {},
   "number_sections": true,
   "sideBar": true,
   "skip_h1_title": false,
   "title_cell": "Table of Contents",
   "title_sidebar": "Contents",
   "toc_cell": true,
   "toc_position": {
    "height": "calc(100% - 180px)",
    "left": "10px",
    "top": "150px",
    "width": "224px"
   },
   "toc_section_display": true,
   "toc_window_display": true
  },
  "varInspector": {
   "cols": {
    "lenName": 16,
    "lenType": 16,
    "lenVar": 40
   },
   "kernels_config": {
    "python": {
     "delete_cmd_postfix": "",
     "delete_cmd_prefix": "del ",
     "library": "var_list.py",
     "varRefreshCmd": "print(var_dic_list())"
    },
    "r": {
     "delete_cmd_postfix": ") ",
     "delete_cmd_prefix": "rm(",
     "library": "var_list.r",
     "varRefreshCmd": "cat(var_dic_list()) "
    }
   },
   "types_to_exclude": [
    "module",
    "function",
    "builtin_function_or_method",
    "instance",
    "_Feature"
   ],
   "window_display": false
  }
 },
 "nbformat": 4,
 "nbformat_minor": 5
}

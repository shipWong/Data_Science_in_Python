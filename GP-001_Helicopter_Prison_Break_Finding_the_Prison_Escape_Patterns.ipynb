{
 "cells": [
  {
   "cell_type": "markdown",
   "metadata": {},
   "source": [
    "# Helicopter Prison Break — Finding the Prison Escape Patterns <a class=\"tocSkip\">"
   ]
  },
  {
   "cell_type": "markdown",
   "metadata": {},
   "source": [
    "## Introduction\n",
    "In this project, we analyse the [dataset of helicopter escapes](https://en.wikipedia.org/wiki/List_of_helicopter_prison_escapes) (1971 - 2020) obtained from Wikipedia to find the patterns of helicopter prison breaks. The result of our analysis is based on the dataset being analysed at that very moment; therefore, the conclusion can differ from the most updated data on the Wikipedia article.\n",
    "\n",
    "We use basic Python techniques to analyse the data and Matplotlib to visualise some results. We find the patterns based on years, countries and escapees.\n",
    "\n",
    "The original dataset contains six self-explainable columns as below:\n",
    "- `Date`\n",
    "- `Prison name`\n",
    "- `Country`\n",
    "- `Succeeded`\n",
    "- `Escapee(s)`\n",
    "- `Details`"
   ]
  },
  {
   "cell_type": "markdown",
   "metadata": {},
   "source": [
    "### The goal of the project\n",
    "\n",
    "This project aims to answer the questions below:\n",
    "- Which year showed the maximum number of helicopter prison break attempts?\n",
    "- Which countries demonstrated the highest amount of helicopter prison break attempts?\n",
    "- Which countries recorded the greatest chance of success for helicopter prison breaks?\n",
    "- How did the number of escapees affect success?\n",
    "- Which escapees have done it more than once?"
   ]
  },
  {
   "cell_type": "markdown",
   "metadata": {},
   "source": [
    "### Summary of results\n",
    "- Years **1986, 2001, 2007 and 2009** showed the highest occurrence of helicopter prison break attempts, i.e. three attempts.\n",
    "- **France** has the highest number of helicopter prison escape attempts between 1971 to 2020, i.e. **15 times**.\n",
    "- We **could not statistically draw any conclusion about the countries with the highest success rate** for helicopter prison breaks due to the low number of prison break attempts demonstrated by the countries with a 100% success rate.\n",
    "- The **longer the names of the escapees** the **higher** the chance of prison break **success**.\n",
    "- The escapees from France, **Michel Vaujour** and **Pascal Payet**, have done prison breaks **twice** respectively."
   ]
  },
  {
   "cell_type": "markdown",
   "metadata": {},
   "source": [
    "## Preparing the data"
   ]
  },
  {
   "cell_type": "markdown",
   "metadata": {},
   "source": [
    "### Exploring the data\n",
    "We use one of the Dataquest's `helper functions` from the [helper.py](http://localhost:8888/edit/Documents/Data-Science_in_Python/P01_Python-Introduction/P01-02_For-Loops_and_Conditional_Statements/Guided-Project_P1-02_Prison_Break/helper.py) file to get our data into Python."
   ]
  },
  {
   "cell_type": "code",
   "execution_count": 1,
   "metadata": {},
   "outputs": [],
   "source": [
    "from helper import *"
   ]
  },
  {
   "cell_type": "markdown",
   "metadata": {},
   "source": [
    "We assign the URL of the Wikipedia article to a variable named `url`, and pass it to the helper function `data_from_url()` to open the URL."
   ]
  },
  {
   "cell_type": "code",
   "execution_count": 2,
   "metadata": {},
   "outputs": [],
   "source": [
    "# Assigning the url of the dataset to `url`\n",
    "url = \"https://en.wikipedia.org/wiki/List_of_helicopter_prison_escapes\""
   ]
  },
  {
   "cell_type": "code",
   "execution_count": 3,
   "metadata": {},
   "outputs": [],
   "source": [
    "# Open the url\n",
    "data = data_from_url(url)"
   ]
  },
  {
   "cell_type": "markdown",
   "metadata": {},
   "source": [
    "Let's print the first three rows and explore briefly."
   ]
  },
  {
   "cell_type": "code",
   "execution_count": 4,
   "metadata": {},
   "outputs": [
    {
     "name": "stdout",
     "output_type": "stream",
     "text": [
      "['August 19, 1971', 'Santa Martha Acatitla', 'Mexico', 'Yes', 'Joel David Kaplan Carlos Antonio Contreras Castro', \"Joel David Kaplan was a New York businessman who had been arrested for murder in 1962 in Mexico City and was incarcerated at the Santa Martha Acatitla prison in the Iztapalapa borough of Mexico City. Joel's sister, Judy Kaplan, arranged the means to help Kaplan escape, and on August 19, 1971, a helicopter landed in the prison yard. The guards mistakenly thought this was an official visit. In two minutes, Kaplan and his cellmate Carlos Antonio Contreras, a Venezuelan counterfeiter, were able to board the craft and were piloted away, before any shots were fired.[9] Both men were flown to Texas and then different planes flew Kaplan to California and Contreras to Guatemala.[3] The Mexican government never initiated extradition proceedings against Kaplan.[9] The escape is told in a book, The 10-Second Jailbreak: The Helicopter Escape of Joel David Kaplan.[4] It also inspired the 1975 action movie Breakout, which starred Charles Bronson and Robert Duvall.[9]\"]\n",
      "\n",
      "['October 31, 1973', 'Mountjoy Jail', 'Ireland', 'Yes', \"JB O'Hagan Seamus TwomeyKevin Mallon\", 'On October 31, 1973, an IRA member hijacked a helicopter and forced the pilot to land in the exercise yard of Dublin\\'s Mountjoy Jail\\'s D Wing at 3:40\\xa0p.m., October 31, 1973. Three members of the IRA were able to escape: JB O\\'Hagan, Seamus Twomey and Kevin Mallon. Another prisoner who also was in the prison was quoted as saying, \"One shamefaced screw apologised to the governor and said he thought it was the new Minister for Defence (Paddy Donegan) arriving. I told him it was our Minister of Defence leaving.\" The Mountjoy helicopter escape became Republican lore and was immortalized by \"The Helicopter Song\", which contains the lines \"It\\'s up like a bird and over the city. There\\'s three men a\\'missing I heard the warder say\".[1]']\n",
      "\n",
      "['May 24, 1978', 'United States Penitentiary, Marion', 'United States', 'No', 'Garrett Brock TrapnellMartin Joseph McNallyJames Kenneth Johnson', \"43-year-old Barbara Ann Oswald hijacked a Saint Louis-based charter helicopter and forced the pilot to land in the yard at USP Marion. While landing the aircraft, the pilot, Allen Barklage, who was a Vietnam War veteran, struggled with Oswald and managed to wrestle the gun away from her. Barklage then shot and killed Oswald, thwarting the escape.[10] A few months later Oswald's daughter hijacked TWA Flight 541 in an effort to free Trapnell.\"]\n"
     ]
    }
   ],
   "source": [
    "print(*data[:3], sep='\\n\\n')"
   ]
  },
  {
   "cell_type": "markdown",
   "metadata": {},
   "source": [
    "The last column, `Details`, takes up a lot of space, and it is not so important for our analysis. Therefore, we will remove this column to improve the readability of our data."
   ]
  },
  {
   "cell_type": "markdown",
   "metadata": {},
   "source": [
    "### Removing the details\n",
    "We delete the last column by using `pop()` and list comprehension."
   ]
  },
  {
   "cell_type": "code",
   "execution_count": 5,
   "metadata": {},
   "outputs": [
    {
     "name": "stdout",
     "output_type": "stream",
     "text": [
      "['August 19, 1971', 'Santa Martha Acatitla', 'Mexico', 'Yes', 'Joel David Kaplan Carlos Antonio Contreras Castro']\n",
      "\n",
      "['October 31, 1973', 'Mountjoy Jail', 'Ireland', 'Yes', \"JB O'Hagan Seamus TwomeyKevin Mallon\"]\n",
      "\n",
      "['May 24, 1978', 'United States Penitentiary, Marion', 'United States', 'No', 'Garrett Brock TrapnellMartin Joseph McNallyJames Kenneth Johnson']\n"
     ]
    }
   ],
   "source": [
    "# Delete the last column — `Details`\n",
    "[row.pop(-1) for row in data]\n",
    "\n",
    "print(*data[:3], sep='\\n\\n')"
   ]
  },
  {
   "cell_type": "markdown",
   "metadata": {},
   "source": [
    "When we re-examine the dataset, we can see that the `Details` column has been deleted."
   ]
  },
  {
   "cell_type": "markdown",
   "metadata": {},
   "source": [
    "### Extracting the year\n",
    "Since we only need **year** for our analysis, we extract the **year** from the `Date` column and reassign it back to the `Date`."
   ]
  },
  {
   "cell_type": "code",
   "execution_count": 6,
   "metadata": {},
   "outputs": [],
   "source": [
    "# Extract the year\n",
    "for row in data:\n",
    "    row[0] = fetch_year(row[0])    # fetch_year() is a helper function"
   ]
  },
  {
   "cell_type": "code",
   "execution_count": 7,
   "metadata": {},
   "outputs": [
    {
     "name": "stdout",
     "output_type": "stream",
     "text": [
      "[1971, 'Santa Martha Acatitla', 'Mexico', 'Yes', 'Joel David Kaplan Carlos Antonio Contreras Castro']\n",
      "\n",
      "[1973, 'Mountjoy Jail', 'Ireland', 'Yes', \"JB O'Hagan Seamus TwomeyKevin Mallon\"]\n",
      "\n",
      "[1978, 'United States Penitentiary, Marion', 'United States', 'No', 'Garrett Brock TrapnellMartin Joseph McNallyJames Kenneth Johnson']\n"
     ]
    }
   ],
   "source": [
    "print(*data[:3], sep='\\n\\n')"
   ]
  },
  {
   "cell_type": "markdown",
   "metadata": {},
   "source": [
    "Now we have updated the `Date` column with **year**, we could investigate which years had the highest number of prison break attempts."
   ]
  },
  {
   "cell_type": "markdown",
   "metadata": {},
   "source": [
    "## Determining the years with the maximum number of prison break attempts"
   ]
  },
  {
   "cell_type": "markdown",
   "metadata": {},
   "source": [
    "We create a dictionary named `attempts_per_year` to compute the number of prison break attempts per year in the dataset. We do not include the years with zero prison breaks in the dictionary, because it is not important for our analysis — our goal is to determine the **years** with the **maximum number of attempts**."
   ]
  },
  {
   "cell_type": "code",
   "execution_count": 8,
   "metadata": {},
   "outputs": [
    {
     "data": {
      "text/plain": [
       "{1971: 1,\n",
       " 1973: 1,\n",
       " 1978: 1,\n",
       " 1981: 2,\n",
       " 1983: 1,\n",
       " 1985: 2,\n",
       " 1986: 3,\n",
       " 1987: 1,\n",
       " 1988: 1,\n",
       " 1989: 2,\n",
       " 1990: 1,\n",
       " 1991: 1,\n",
       " 1992: 2,\n",
       " 1993: 1,\n",
       " 1996: 1,\n",
       " 1997: 1,\n",
       " 1999: 1,\n",
       " 2000: 2,\n",
       " 2001: 3,\n",
       " 2002: 2,\n",
       " 2003: 1,\n",
       " 2005: 2,\n",
       " 2006: 1,\n",
       " 2007: 3,\n",
       " 2009: 3,\n",
       " 2010: 1,\n",
       " 2012: 1,\n",
       " 2013: 2,\n",
       " 2014: 1,\n",
       " 2016: 1,\n",
       " 2018: 1,\n",
       " 2020: 1}"
      ]
     },
     "execution_count": 8,
     "metadata": {},
     "output_type": "execute_result"
    }
   ],
   "source": [
    "# Calculate the number of attempts per year\n",
    "attempts_per_year = {}\n",
    "\n",
    "for row in data:\n",
    "    year = row[0]\n",
    "    attempts_per_year[year] = attempts_per_year.get(year,0) + 1\n",
    "\n",
    "attempts_per_year"
   ]
  },
  {
   "cell_type": "markdown",
   "metadata": {},
   "source": [
    "We print out the maximum number of attempts per year and their corresponding years."
   ]
  },
  {
   "cell_type": "code",
   "execution_count": 9,
   "metadata": {},
   "outputs": [
    {
     "name": "stdout",
     "output_type": "stream",
     "text": [
      "Maximum prison break attempts per year:    3\n",
      "Years with maximum attempts:               [1986, 2001, 2007, 2009]\n"
     ]
    }
   ],
   "source": [
    "# Compute the maximum attempts    \n",
    "max_attempts = max(attempts_per_year.values())\n",
    "print('{:<42} {}'.format('Maximum prison break attempts per year:', max_attempts))\n",
    "\n",
    "# Compute the years with the maximum attempts in a list\n",
    "years_max_attempts = []\n",
    "\n",
    "for year, count in attempts_per_year.items():\n",
    "    if count == max_attempts:\n",
    "        years_max_attempts.append(year)\n",
    "\n",
    "print('{:<42} {}'.format('Years with maximum attempts:', years_max_attempts))"
   ]
  },
  {
   "cell_type": "markdown",
   "metadata": {},
   "source": [
    "Years **1986, 2001, 2007 and 2009** show the maximum number of helicopter prison break attempts, i.e. **three attempts per year**."
   ]
  },
  {
   "cell_type": "markdown",
   "metadata": {},
   "source": [
    "To make to results easier to read, we visualise the frequency table by using a horizontal bar plot. We assign **purple** to the bar with the **maximum number of attempts** and light grey to the others."
   ]
  },
  {
   "cell_type": "code",
   "execution_count": 10,
   "metadata": {},
   "outputs": [
    {
     "name": "stdout",
     "output_type": "stream",
     "text": [
      "['#C5C5C5', '#C5C5C5', '#C5C5C5', '#C5C5C5', '#C5C5C5', '#C5C5C5', '#9450B3', '#C5C5C5', '#C5C5C5', '#C5C5C5', '#C5C5C5', '#C5C5C5', '#C5C5C5', '#C5C5C5', '#C5C5C5', '#C5C5C5', '#C5C5C5', '#C5C5C5', '#9450B3', '#C5C5C5', '#C5C5C5', '#C5C5C5', '#C5C5C5', '#9450B3', '#9450B3', '#C5C5C5', '#C5C5C5', '#C5C5C5', '#C5C5C5', '#C5C5C5', '#C5C5C5', '#C5C5C5']\n"
     ]
    }
   ],
   "source": [
    "# Create a hex code list for the colours of the bars\n",
    "colour_options = []\n",
    "\n",
    "for key in attempts_per_year.keys():\n",
    "    if key not in years_max_attempts:\n",
    "        colour_options.append('#C5C5C5')  # # Hex code for light grey\n",
    "    else:\n",
    "        colour_options.append('#9450B3')  # Hex code for purple\n",
    "\n",
    "print(colour_options)"
   ]
  },
  {
   "cell_type": "code",
   "execution_count": 11,
   "metadata": {},
   "outputs": [
    {
     "data": {
      "image/png": "[encoded data removed]",
      "text/plain": [
       "<Figure size 576x720 with 1 Axes>"
      ]
     },
     "metadata": {},
     "output_type": "display_data"
    }
   ],
   "source": [
    "import matplotlib.pyplot as plt\n",
    "# Run the necessary Jupyter magic so that plots are displayed inline\n",
    "%matplotlib inline\n",
    "\n",
    "years = list(attempts_per_year.keys())\n",
    "values = list(attempts_per_year.values())\n",
    "\n",
    "# Create the horizontal bar plot\n",
    "fig, ax = plt.subplots(figsize=(8, 10))\n",
    "ax.barh(range(len(attempts_per_year)), values, tick_label=years, height=0.45, color=colour_options)\n",
    "\n",
    "# Remove the axes (spines)\n",
    "for location in ['left', 'right', 'bottom', 'top']:\n",
    "    ax.spines[location].set_visible(False)\n",
    "\n",
    "# Relocate the x-tick labels to the top\n",
    "ax.xaxis.tick_top()    \n",
    "\n",
    "# Remove the ticks\n",
    "ax.tick_params(top=False, left=False)\n",
    "\n",
    "# Remove some of the x-tick labels\n",
    "ax.set_xticks([0, 1, 2, 3])\n",
    "\n",
    "# Change the colour the x-tick labels\n",
    "ax.tick_params(axis='x', colors='grey')\n",
    "\n",
    "# Add title\n",
    "ax.text(x=-0.25, y=38, s='Most helicopter prison break attempts occurred in 1986, 2001, 2007 and 2009', \n",
    "        weight='bold', size=24)\n",
    "\n",
    "# Add subtitle\n",
    "ax.text(x=-0.25, y=36.3, s='The number of helicopter prison break attempts between the years 1971 and 2020', \n",
    "        size=18)\n",
    "\n",
    "plt.show()"
   ]
  },
  {
   "cell_type": "markdown",
   "metadata": {},
   "source": [
    "Let's identify the countries with the maximum number of prison escapes."
   ]
  },
  {
   "cell_type": "markdown",
   "metadata": {},
   "source": [
    "## Identifying the countries with the highest amount of prison break attempts"
   ]
  },
  {
   "cell_type": "markdown",
   "metadata": {},
   "source": [
    "Instead of using a similar approach as before, we will employ a new method for this analysis.\n",
    "\n",
    "We use the `pandas.read_html()` function to convert the HTML table of prison break from the [Wikipedia article](https://en.wikipedia.org/wiki/List_of_helicopter_prison_escapes) into a pandas DataFrame and assign it to a variable named `df`."
   ]
  },
  {
   "cell_type": "code",
   "execution_count": 12,
   "metadata": {},
   "outputs": [],
   "source": [
    "import pandas as pd\n",
    "\n",
    "# Scrap the HTML table into a list of pandas DataFrames\n",
    "df = pd.read_html(\"https://en.wikipedia.org/wiki/List_of_helicopter_prison_escapes\")[1]\n",
    "\n",
    "# Exclude the `Details` column from `df`\n",
    "df = df[[\"Date\", \"Prison name\", \"Country\", \"Succeeded\", \"Escapee(s)\"]]"
   ]
  },
  {
   "cell_type": "markdown",
   "metadata": {},
   "source": [
    "We count the frequency of prison escapes per country."
   ]
  },
  {
   "cell_type": "code",
   "execution_count": 13,
   "metadata": {},
   "outputs": [],
   "source": [
    "# Get the counts of the unique countries\n",
    "countries_frequency = df['Country'].value_counts()"
   ]
  },
  {
   "cell_type": "markdown",
   "metadata": {},
   "source": [
    "We use `print_pretty_table()` from the `helper function` to print the frequency table."
   ]
  },
  {
   "cell_type": "code",
   "execution_count": 14,
   "metadata": {},
   "outputs": [
    {
     "data": {
      "text/html": [
       "<table border=\"1\" class=\"dataframe\">\n",
       "  <thead>\n",
       "    <tr style=\"text-align: right;\">\n",
       "      <th>Country</th>\n",
       "      <th>Number of Occurrences</th>\n",
       "    </tr>\n",
       "  </thead>\n",
       "  <tbody>\n",
       "    <tr>\n",
       "      <td>France</td>\n",
       "      <td>15</td>\n",
       "    </tr>\n",
       "    <tr>\n",
       "      <td>United States</td>\n",
       "      <td>8</td>\n",
       "    </tr>\n",
       "    <tr>\n",
       "      <td>Canada</td>\n",
       "      <td>4</td>\n",
       "    </tr>\n",
       "    <tr>\n",
       "      <td>Greece</td>\n",
       "      <td>4</td>\n",
       "    </tr>\n",
       "    <tr>\n",
       "      <td>Belgium</td>\n",
       "      <td>4</td>\n",
       "    </tr>\n",
       "    <tr>\n",
       "      <td>Australia</td>\n",
       "      <td>2</td>\n",
       "    </tr>\n",
       "    <tr>\n",
       "      <td>Brazil</td>\n",
       "      <td>2</td>\n",
       "    </tr>\n",
       "    <tr>\n",
       "      <td>United Kingdom</td>\n",
       "      <td>2</td>\n",
       "    </tr>\n",
       "    <tr>\n",
       "      <td>Mexico</td>\n",
       "      <td>1</td>\n",
       "    </tr>\n",
       "    <tr>\n",
       "      <td>Ireland</td>\n",
       "      <td>1</td>\n",
       "    </tr>\n",
       "    <tr>\n",
       "      <td>Italy</td>\n",
       "      <td>1</td>\n",
       "    </tr>\n",
       "    <tr>\n",
       "      <td>Puerto Rico</td>\n",
       "      <td>1</td>\n",
       "    </tr>\n",
       "    <tr>\n",
       "      <td>Chile</td>\n",
       "      <td>1</td>\n",
       "    </tr>\n",
       "    <tr>\n",
       "      <td>Netherlands</td>\n",
       "      <td>1</td>\n",
       "    </tr>\n",
       "    <tr>\n",
       "      <td>Russia</td>\n",
       "      <td>1</td>\n",
       "    </tr>\n",
       "  </tbody>\n",
       "</table>"
      ],
      "text/plain": [
       "<IPython.core.display.HTML object>"
      ]
     },
     "metadata": {},
     "output_type": "display_data"
    }
   ],
   "source": [
    "print_pretty_table(countries_frequency)"
   ]
  },
  {
   "cell_type": "markdown",
   "metadata": {},
   "source": [
    "Based on our analysis **France has the highest number of helicopter prison escape attempts, i.e. 15 times**. This is followed by eight attempts from the United States and four attempts from Canada, Greece, and Belgium, respectively.\n",
    "\n",
    "Next, we will investigate which countries have a higher chance of success for helicopter prison breaks."
   ]
  },
  {
   "cell_type": "markdown",
   "metadata": {},
   "source": [
    "## Unravelling the countries with a higher chance of prison break success"
   ]
  },
  {
   "cell_type": "markdown",
   "metadata": {},
   "source": [
    "First, we need to isolate the unique countries from our dataset."
   ]
  },
  {
   "cell_type": "code",
   "execution_count": 15,
   "metadata": {},
   "outputs": [
    {
     "name": "stdout",
     "output_type": "stream",
     "text": [
      "Number of unique countries: 15 \n",
      "\n",
      "Unique countries: \n",
      " ['Mexico' 'Ireland' 'United States' 'France' 'Canada' 'Australia' 'Brazil'\n",
      " 'Italy' 'United Kingdom' 'Puerto Rico' 'Chile' 'Netherlands' 'Greece'\n",
      " 'Belgium' 'Russia']\n"
     ]
    }
   ],
   "source": [
    "# Isolate the unique countries\n",
    "unique_countries = df['Country'].unique()\n",
    "\n",
    "print('Number of unique countries:', len(unique_countries), '\\n')\n",
    "print('Unique countries:', '\\n', unique_countries)"
   ]
  },
  {
   "cell_type": "markdown",
   "metadata": {},
   "source": [
    "We create a list of lists named `succeeded_breakdown` to gather the information of the **unique countries, counters for succeeded, unsucceeded and total attempts**. The data for each unique country is grouped under their respective lists. All the counters are set to `0` at the beginning."
   ]
  },
  {
   "cell_type": "code",
   "execution_count": 16,
   "metadata": {},
   "outputs": [
    {
     "name": "stdout",
     "output_type": "stream",
     "text": [
      "['Mexico', 0, 0, 0]\n",
      "['Ireland', 0, 0, 0]\n",
      "['United States', 0, 0, 0]\n",
      "['France', 0, 0, 0]\n",
      "['Canada', 0, 0, 0]\n",
      "['Australia', 0, 0, 0]\n",
      "['Brazil', 0, 0, 0]\n",
      "['Italy', 0, 0, 0]\n",
      "['United Kingdom', 0, 0, 0]\n",
      "['Puerto Rico', 0, 0, 0]\n",
      "['Chile', 0, 0, 0]\n",
      "['Netherlands', 0, 0, 0]\n",
      "['Greece', 0, 0, 0]\n",
      "['Belgium', 0, 0, 0]\n",
      "['Russia', 0, 0, 0]\n"
     ]
    }
   ],
   "source": [
    "succeeded_breakdown = []\n",
    "\n",
    "# Append the information for each unique country into the list of lists \n",
    "for uc in unique_countries:\n",
    "    succeeded_breakdown.append([uc, 0, 0, 0])  # [unique country, succeeded counter, unsucceeded counter, total]\n",
    "\n",
    "print(*succeeded_breakdown, sep='\\n')"
   ]
  },
  {
   "cell_type": "markdown",
   "metadata": {},
   "source": [
    "We calculate the numbers of succeeded, unsucceeded and total attempts for each country by using two `for loops` and conditional statements."
   ]
  },
  {
   "cell_type": "code",
   "execution_count": 17,
   "metadata": {},
   "outputs": [
    {
     "name": "stdout",
     "output_type": "stream",
     "text": [
      "\u001b[4mCountry, succeeded, unsucceeded, total:\u001b[0m\n",
      "['Mexico', 1, 0, 1]\n",
      "['Ireland', 1, 0, 1]\n",
      "['United States', 6, 2, 8]\n",
      "['France', 11, 4, 15]\n",
      "['Canada', 3, 1, 4]\n",
      "['Australia', 1, 1, 2]\n",
      "['Brazil', 2, 0, 2]\n",
      "['Italy', 1, 0, 1]\n",
      "['United Kingdom', 1, 1, 2]\n",
      "['Puerto Rico', 1, 0, 1]\n",
      "['Chile', 1, 0, 1]\n",
      "['Netherlands', 0, 1, 1]\n",
      "['Greece', 2, 2, 4]\n",
      "['Belgium', 2, 2, 4]\n",
      "['Russia', 1, 0, 1]\n"
     ]
    }
   ],
   "source": [
    "for row in data:\n",
    "    country = row[2]\n",
    "    success_status = row[3]\n",
    "    \n",
    "    for sb in succeeded_breakdown:\n",
    "        if sb[0] == country:\n",
    "            sb[3] += 1    # Total number of prison breaks\n",
    "            \n",
    "            if success_status == 'Yes':\n",
    "                sb[1] += 1    # counter for succeeded attempts\n",
    "            else:\n",
    "                sb[2] += 1    # counter for unsucceeded attempts\n",
    "\n",
    "print('\\033[4m' + 'Country, succeeded, unsucceeded, total:' + '\\033[0m')\n",
    "print(*succeeded_breakdown, sep='\\n')"
   ]
  },
  {
   "cell_type": "markdown",
   "metadata": {},
   "source": [
    "From `succeeded_breakdown`, we have obtained the numbers of succeeded, unsucceeded and total attempts. We further analyse the result by using a bar chart."
   ]
  },
  {
   "cell_type": "code",
   "execution_count": 18,
   "metadata": {},
   "outputs": [
    {
     "data": {
      "image/png": "[encoded data removed]",
      "text/plain": [
       "<Figure size 1152x360 with 1 Axes>"
      ]
     },
     "metadata": {
      "needs_background": "light"
     },
     "output_type": "display_data"
    }
   ],
   "source": [
    "import numpy as np\n",
    "\n",
    "succeeded_list = []    # List for succeeded attempts\n",
    "unsucceeded_list = []    # List for unsucceeded attempts\n",
    "\n",
    "# Assign the numbers of succeeded and unsucceeded attempts in their respective lists\n",
    "for sb in succeeded_breakdown:\n",
    "    succeeded_list.append(sb[1])\n",
    "    unsucceeded_list.append(sb[2])\n",
    "\n",
    "x = np.arange(len(unique_countries))  # The label locations\n",
    "width = 0.3  # The width of the bars    \n",
    "\n",
    "# Create a vertical bar plot\n",
    "plt.figure(figsize=(16, 5))\n",
    "ax1 = plt.subplot()\n",
    "ax2 = plt.subplot()\n",
    "axes = [ax1, ax2]\n",
    "\n",
    "ax1.bar(x - width/2, succeeded_list, width, label='Succeeded', color='#9450B3')\n",
    "ax2.bar(x + width/2, unsucceeded_list, width, label='Unsucceeded', color='#C5C5C5')\n",
    "\n",
    "for ax in axes:\n",
    "    # Remove the axes (spines)\n",
    "    for location in ['left', 'right', 'bottom', 'top']:\n",
    "        ax.spines[location].set_visible(False)\n",
    "    \n",
    "    # Remove the ticks\n",
    "    ax.tick_params(left=False, bottom=False)\n",
    "    \n",
    "    # Remove the labels for y-ticks\n",
    "    ax.set_yticks([])\n",
    "    \n",
    "    # Add the labels for x-ticks\n",
    "    ax.set_xticks(x, unique_countries)\n",
    "    \n",
    "    # Place a legend & remove the frame\n",
    "    ax.legend(frameon=False)\n",
    "\n",
    "# Add value label to the bars \n",
    "threshold = 0\n",
    "for c in ax.containers:\n",
    "    # Filter the labels with the value of `0`\n",
    "    labels = [value if value > threshold else \"\" for value in c.datavalues]    \n",
    "    ax.bar_label(c, labels=labels, padding=5, color='grey')\n",
    "\n",
    "# Rotate the labels of the x-axis.\n",
    "plt.xticks(rotation=30)\n",
    "\n",
    "# Add title\n",
    "ax.text(x=-0.65, y=15, s='France topped with eleven succeded prison break attempts', \n",
    "        weight='bold', size=24)\n",
    "\n",
    "# Add subtitle\n",
    "ax.text(x=-0.65, y=13.8, s='The number of helicopter prison break attempts per country (1971 - 2020)', \n",
    "        size=18)    \n",
    "    \n",
    "plt.show()"
   ]
  },
  {
   "cell_type": "markdown",
   "metadata": {},
   "source": [
    "**France and the United States**, respectively, have **the highest and the second-highest succeeded attempts**. Nevertheless, we **could not conclude** that these two countries have a higher chance of prison break success, as they simply have a higher total number of attempts.\n",
    "\n",
    "To answer the question, we need to calculate the percentage of succeeded attempts per country."
   ]
  },
  {
   "cell_type": "code",
   "execution_count": 19,
   "metadata": {},
   "outputs": [],
   "source": [
    "succeeded_percentage = []\n",
    "\n",
    "for sb in succeeded_breakdown:\n",
    "    country_sb = sb[0]\n",
    "    succeeded_attempts = sb[1]\n",
    "    total_attempts = sb[3]\n",
    "    \n",
    "    percentage = round(succeeded_attempts / total_attempts * 100, 1)\n",
    "    succeeded_percentage.append([country_sb, percentage])"
   ]
  },
  {
   "cell_type": "code",
   "execution_count": 20,
   "metadata": {},
   "outputs": [
    {
     "name": "stdout",
     "output_type": "stream",
     "text": [
      "\u001b[4mPercentage of Succeeded Attempts:\u001b[0m\n",
      "Mexico             100.0 %\n",
      "Ireland            100.0 %\n",
      "United States      75.0  %\n",
      "France             73.3  %\n",
      "Canada             75.0  %\n",
      "Australia          50.0  %\n",
      "Brazil             100.0 %\n",
      "Italy              100.0 %\n",
      "United Kingdom     50.0  %\n",
      "Puerto Rico        100.0 %\n",
      "Chile              100.0 %\n",
      "Netherlands        0.0   %\n",
      "Greece             50.0  %\n",
      "Belgium            50.0  %\n",
      "Russia             100.0 %\n"
     ]
    }
   ],
   "source": [
    "print('\\033[4m' + 'Percentage of Succeeded Attempts:' + '\\033[0m')\n",
    "\n",
    "for sp in succeeded_percentage:\n",
    "    print('{:<18} {:<5} {:<1}'.format(sp[0], sp[1], '%'))"
   ]
  },
  {
   "cell_type": "markdown",
   "metadata": {},
   "source": [
    "We visualise the data by using a bar chart. Before plotting a bar chart, we assign purple bars to countries with a 100% prison break success rate and light grey to countries below 100%."
   ]
  },
  {
   "cell_type": "code",
   "execution_count": 21,
   "metadata": {},
   "outputs": [
    {
     "name": "stdout",
     "output_type": "stream",
     "text": [
      "['Mexico', 100.0, '#9450B3']\n",
      "['Ireland', 100.0, '#9450B3']\n",
      "['United States', 75.0, '#C5C5C5']\n",
      "['France', 73.3, '#C5C5C5']\n",
      "['Canada', 75.0, '#C5C5C5']\n",
      "['Australia', 50.0, '#C5C5C5']\n",
      "['Brazil', 100.0, '#9450B3']\n",
      "['Italy', 100.0, '#9450B3']\n",
      "['United Kingdom', 50.0, '#C5C5C5']\n",
      "['Puerto Rico', 100.0, '#9450B3']\n",
      "['Chile', 100.0, '#9450B3']\n",
      "['Netherlands', 0.0, '#C5C5C5']\n",
      "['Greece', 50.0, '#C5C5C5']\n",
      "['Belgium', 50.0, '#C5C5C5']\n",
      "['Russia', 100.0, '#9450B3']\n"
     ]
    }
   ],
   "source": [
    "# Appending Hex colour codes\n",
    "for sp in succeeded_percentage:\n",
    "    percentage = sp[1]\n",
    "    if percentage == 100:\n",
    "        sp.append('#9450B3')  # Hex code for purple\n",
    "    else:\n",
    "        sp.append('#C5C5C5')  # Hex code for light grey\n",
    "\n",
    "print(*succeeded_percentage, sep='\\n')"
   ]
  },
  {
   "cell_type": "code",
   "execution_count": 22,
   "metadata": {
    "scrolled": false
   },
   "outputs": [
    {
     "data": {
      "image/png": "[encoded data removed]",
      "text/plain": [
       "<Figure size 1080x360 with 1 Axes>"
      ]
     },
     "metadata": {
      "needs_background": "light"
     },
     "output_type": "display_data"
    }
   ],
   "source": [
    "plt.figure(figsize=(15, 5))\n",
    "ax = plt.subplot()\n",
    "\n",
    "for sp in succeeded_percentage:\n",
    "    country_sp = sp[0]\n",
    "    percentage = sp[1]\n",
    "    colour_code = sp[2]\n",
    "    ax.bar(country_sp, percentage, width=0.6, color=colour_code)\n",
    "    \n",
    "# Remove the axes (spines)\n",
    "for location in ['left', 'right', 'bottom', 'top']:\n",
    "        ax.spines[location].set_visible(False)    \n",
    "\n",
    "# Remove the ticks\n",
    "ax.tick_params(left=False, bottom=False)\n",
    "\n",
    "# Remove the labels for y-ticks\n",
    "ax.set_yticks([])\n",
    "\n",
    "# Add value label to the bars \n",
    "threshold = 0\n",
    "for c in ax.containers:\n",
    "    # Filter the labels with the value of `0`\n",
    "    labels = [f'{value}%' if value > threshold else \"\" for value in c.datavalues]    \n",
    "    ax.bar_label(c, labels=labels, padding=5, color='grey')\n",
    "\n",
    "# Rotate the labels of the x-axis\n",
    "plt.xticks(rotation=30)\n",
    "\n",
    "# Add title\n",
    "ax.text(x=-0.65, y=140, s='Seven out of fifteen countries show 100% prison break success rates', \n",
    "        weight='bold', size=24)\n",
    "\n",
    "# Add subtitle\n",
    "ax.text(x=-0.65, y=130, s='The successful rates of helicopter prison break attempts per country (1971 - 2020)', \n",
    "        size=18)    \n",
    "\n",
    "plt.show()"
   ]
  },
  {
   "cell_type": "markdown",
   "metadata": {},
   "source": [
    "At first glance, countries with the highest success rate (i.e. 100%) are Mexico, Ireland, Brazil, Italy, Puerto Rico, Chile and Russia. \n",
    "\n",
    "However, is it true? \n",
    "\n",
    "Unfortunately, **we could not draw any conclusion statistically, as all the mentioned countries only have one or two total prison break attempts**."
   ]
  },
  {
   "cell_type": "markdown",
   "metadata": {},
   "source": [
    "## Investigating whether the number of escapees affects success"
   ]
  },
  {
   "cell_type": "markdown",
   "metadata": {},
   "source": [
    "We want to investigate whether the number of escapees impacts the success of prison break attempts.  The intuitive way to do this is to calculate the number of escapees for every prison break attempt.\n",
    "\n",
    "Let's examine the escapee(s) column:"
   ]
  },
  {
   "cell_type": "code",
   "execution_count": 23,
   "metadata": {},
   "outputs": [
    {
     "name": "stdout",
     "output_type": "stream",
     "text": [
      "Joel David Kaplan Carlos Antonio Contreras Castro\n",
      "JB O'Hagan Seamus TwomeyKevin Mallon\n",
      "Garrett Brock TrapnellMartin Joseph McNallyJames Kenneth Johnson\n"
     ]
    }
   ],
   "source": [
    "for row in data[:3]:\n",
    "    print(row[4])"
   ]
  },
  {
   "cell_type": "markdown",
   "metadata": {},
   "source": [
    "Unfortunately, it is impossible to count the number of escapee(s) due to the following reasons:\n",
    "- Lack of separators, such as a comma, to separate the escapee names.\n",
    "- Some names are merged. For example:\n",
    "    - Second row: *Twomey* is merged with *Kevin*\n",
    "    - Third row: *Trapnell* is merged with Martin and *McNally* is merged with *James*, etc"
   ]
  },
  {
   "cell_type": "markdown",
   "metadata": {},
   "source": [
    "An alternative way to determine the number of escapees is to **calculate the length of the escapees' names per attempt**. We do this by making an **assumption that the longer their combined names, the more the escapees**. It is not the perfect solution, yet it can give us a brief idea about the correlation between the number of escapees and the chance of success."
   ]
  },
  {
   "cell_type": "markdown",
   "metadata": {},
   "source": [
    "We use a `for loop` and conditional statements to \n",
    "1. remove the empty entries (i.e. '—'),  and \n",
    "2. gather the names and the length of the names of the escapees into the `successful` and `unsuccessful` lists, respectively.\n",
    "\n",
    "Each of them is a list of lists, which contains inner lists in the format of escapee names and their length, i.e. number of characters."
   ]
  },
  {
   "cell_type": "code",
   "execution_count": 24,
   "metadata": {},
   "outputs": [
    {
     "name": "stdout",
     "output_type": "stream",
     "text": [
      "\u001b[4mSuccessful Attempts\u001b[0m\n",
      "> Number of attempts:     31 \n",
      "\n",
      "['Joel David Kaplan Carlos Antonio Contreras Castro', 49]\n",
      "[\"JB O'Hagan Seamus TwomeyKevin Mallon\", 36]\n",
      "['Gérard DupréDaniel Beaumont', 27]\n",
      "['James Rodney LeonardWilliam Douglas BallewJesse Glenn Smith', 59]\n",
      "['José Carlos dos Reis Encina, a.k.a. \"Escadinha\"', 47]\n",
      "['Michel Vaujour', 14]\n",
      "['Samantha Lopez', 14]\n",
      "['André BellaïcheGianluigi EspositoLuciano Cipollari', 50]\n",
      "['Sydney DraperJohn Kendall', 25]\n",
      "['Mahoney Danny Francis MitchellRandy Lackey', 42]\n",
      "['Ralph BrownFreddie Gonzales', 27]\n",
      "['Robert FordDavid Thomas', 23]\n",
      "['William Lane', 12]\n",
      "['Four members of the Manuel Rodriguez Patriotic Front', 52]\n",
      "['John Killick', 12]\n",
      "['Steven Whitsett', 15]\n",
      "['Pascal Payet', 12]\n",
      "['Abdelhamid CarnousEmile Forma-SariJean-Philippe Lecase', 54]\n",
      "['Orlando Cartagena Jose Rodriguez Victor Diaz Hector Diaz Jose Tapia', 67]\n",
      "['Eric AlboreoFranck PerlettoMichel Valero', 40]\n",
      "['Hubert SellesJean-Claude MorettiMohamed Bessame', 47]\n",
      "['Vassilis Paleokostas', 20]\n",
      "['Eric Ferdinand', 14]\n",
      "['Pascal Payet', 12]\n",
      "['Vasilis PaleokostasAlket Rizai', 30]\n",
      "['Alexin JismyFabrice Michel', 26]\n",
      "['Ashraf Sekkaki plus three other criminals', 41]\n",
      "['Alexey Shestakov', 16]\n",
      "['Benjamin Hudon-BarbeauDanny Provençal', 37]\n",
      "['Yves DenisDenis LefebvreSerge Pomerleau', 39]\n",
      "['Rédoine Faïd', 12]\n",
      "\n",
      "\u001b[4mUnsuccessful Attempts\u001b[0m\n",
      "> Number of attempts:     10 \n",
      "\n",
      "['Garrett Brock TrapnellMartin Joseph McNallyJames Kenneth Johnson', 64]\n",
      "['Marina Paquet (hijacker)Giles Arseneault (prisoner)', 51]\n",
      "['David McMillan', 14]\n",
      "['Ben Kramer', 10]\n",
      "['Michel Vaujour', 14]\n",
      "['Nordin Benallal', 15]\n",
      "['Brian Lawrence', 14]\n",
      "['Panagiotis Vlastos', 18]\n",
      "['Pola RoupaNikos Maziotis', 24]\n",
      "['Kristel A.', 10]\n"
     ]
    }
   ],
   "source": [
    "successful = []    # The succeeded escapees in the format of (names, length of the names)\n",
    "unsuccessful = []    # The unsucceeded escapees in the format of (names, length of the names)\n",
    "\n",
    "for row in data:\n",
    "    success_status = row[3]\n",
    "    escapees_names = row[4]\n",
    "    \n",
    "    # Remove empty entries\n",
    "    if escapees_names != '—':\n",
    "        # Gather the info of the succeeded escapees\n",
    "        if success_status == 'Yes':\n",
    "            successful.append([escapees_names, len(escapees_names)])\n",
    "        \n",
    "        # Gather the info of the unsucceeded escapees\n",
    "        else:\n",
    "            unsuccessful.append([escapees_names, len(escapees_names)])\n",
    "\n",
    "print('\\033[4m' + 'Successful Attempts' + '\\033[0m')\n",
    "print('> Number of attempts:    ', len(successful), '\\n')\n",
    "print(*successful, sep='\\n')\n",
    "\n",
    "print('\\n' + '\\033[4m' + 'Unsuccessful Attempts' + '\\033[0m')\n",
    "print('> Number of attempts:    ', len(unsuccessful), '\\n')\n",
    "print(*unsuccessful, sep='\\n')"
   ]
  },
  {
   "cell_type": "markdown",
   "metadata": {},
   "source": [
    "We want to visualise the results on horizontal bar plots, which include lines representing the average length of the name characters. Let's compute the average length of escapees' names."
   ]
  },
  {
   "cell_type": "code",
   "execution_count": 25,
   "metadata": {},
   "outputs": [
    {
     "name": "stdout",
     "output_type": "stream",
     "text": [
      "\u001b[4mAverage length of escapees' names\u001b[0m\n",
      "Successful attempts:     31\n",
      "Unsuccessful attempts:   23\n"
     ]
    }
   ],
   "source": [
    "def average_length(alist):\n",
    "    total = 0\n",
    "    \n",
    "    for innerlist in alist:\n",
    "        name_length = innerlist[1]   # The number of characters including white space\n",
    "        total += name_length\n",
    "    avg = total / len(alist)\n",
    "    return avg\n",
    "\n",
    "average_successful = round(average_length(successful))\n",
    "average_unsuccessful = round(average_length(unsuccessful))\n",
    "\n",
    "print('\\033[4m' + \"Average length of escapees' names\" + '\\033[0m')\n",
    "print('{:<24} {}'.format(\"Successful attempts:\", average_successful))\n",
    "print('{:<24} {}'.format(\"Unsuccessful attempts:\", average_unsuccessful))"
   ]
  },
  {
   "cell_type": "markdown",
   "metadata": {},
   "source": [
    "Next, we label the bars of the escapee(s) in two different colours based on the length of their names:\n",
    "- Same as or above average: Purple\n",
    "- Below average: light grey\n",
    "\n",
    "We append the Hex codes in the `successful` and `unsuccessful` lists."
   ]
  },
  {
   "cell_type": "code",
   "execution_count": 26,
   "metadata": {},
   "outputs": [],
   "source": [
    "# Appending Hex colour codes\n",
    "def colour_length_name(alist, len_average):\n",
    "    for innerlist in alist:\n",
    "        length = innerlist[1]\n",
    "        if length >= len_average:\n",
    "            innerlist.append('#9450B3')  # Hex code for purple\n",
    "        else:\n",
    "            innerlist.append('#C5C5C5')  # Hex code for light grey\n",
    "    return alist\n",
    "\n",
    "# For the successful attempts\n",
    "successful = colour_length_name(successful, average_successful)\n",
    "\n",
    "# For the unsuccessful attempts\n",
    "unsuccessful = colour_length_name(unsuccessful, average_unsuccessful)"
   ]
  },
  {
   "cell_type": "markdown",
   "metadata": {},
   "source": [
    "Let's check the percentage of the length of the names that are above the average length."
   ]
  },
  {
   "cell_type": "code",
   "execution_count": 27,
   "metadata": {},
   "outputs": [
    {
     "name": "stdout",
     "output_type": "stream",
     "text": [
      "\u001b[4mThe percentage of the length of the escapees' names that are above the average length\u001b[0m\n",
      "Successful attempts:      45.2 %\n",
      "Unsuccessful attempts:    30.0 %\n"
     ]
    }
   ],
   "source": [
    "def percentage_above_avg(alist):\n",
    "    counter = 0\n",
    "    \n",
    "    for innerlist in alist:\n",
    "        if innerlist[2] == '#9450B3':\n",
    "            counter += 1\n",
    "    \n",
    "    percentage = counter / len(alist) *100\n",
    "    return round(percentage, 1)\n",
    "\n",
    "# For the successful attempts\n",
    "percentage_successful = percentage_above_avg(successful)\n",
    "\n",
    "# For the unsuccessful attempts\n",
    "percentage_unsuccessful = percentage_above_avg(unsuccessful)\n",
    "\n",
    "print('\\033[4m' + \"The percentage of the length of the escapees' names that are above the average length\" + '\\033[0m')\n",
    "print('{:24} {:5} {}'.format('Successful attempts:', percentage_successful, '%'))\n",
    "print('{:24} {:5} {}'.format('Unsuccessful attempts:', percentage_unsuccessful, '%'))"
   ]
  },
  {
   "cell_type": "markdown",
   "metadata": {},
   "source": [
    "Everything we need is ready now, and it is time to generate a bar plot!"
   ]
  },
  {
   "cell_type": "code",
   "execution_count": 28,
   "metadata": {
    "scrolled": false
   },
   "outputs": [
    {
     "data": {
      "image/png": "[encoded data removed]",
      "text/plain": [
       "<Figure size 576x864 with 1 Axes>"
      ]
     },
     "metadata": {},
     "output_type": "display_data"
    },
    {
     "data": {
      "image/png": "[encoded data removed]",
      "text/plain": [
       "<Figure size 576x252 with 1 Axes>"
      ]
     },
     "metadata": {},
     "output_type": "display_data"
    }
   ],
   "source": [
    "# Plot a bar plot for the successful attempts\n",
    "fig, ax1 = plt.subplots(figsize=(8, 12))\n",
    "for suc in successful:\n",
    "    ax1.barh(suc[0], suc[1], height=0.45, color=suc[2])  # suc[0] = names, suc[1] = length of the names, suc[2] = Hex code\n",
    "\n",
    "# Plot a bar plot for the unsuccessful attempts\n",
    "fig, ax2 = plt.subplots(figsize=(8, 3.5))\n",
    "for unsuc in unsuccessful:\n",
    "    ax2.barh(unsuc[0], unsuc[1], height=0.45, color=unsuc[2])  # suc[0] = names, suc[1] = length of the names, suc[2] = Hex code\n",
    "\n",
    "axes = [ax1, ax2]\n",
    "\n",
    "for ax in axes:\n",
    "    # Remove the axes (spines)\n",
    "    for location in ['left', 'right', 'bottom', 'top']:\n",
    "        ax.spines[location].set_visible(False)\n",
    "    \n",
    "    # Relocate the x-tick labels to the top\n",
    "    ax.xaxis.tick_top() \n",
    "    \n",
    "    # Remove the ticks\n",
    "    ax.tick_params(top=False, left=False)\n",
    "    \n",
    "    # Change the colour the x-tick labels\n",
    "    ax.tick_params(axis='x', colors='grey')\n",
    "    \n",
    "    # Set the x-axis view limits\n",
    "    ax.set_xlim(0, 70)\n",
    "\n",
    "# Draw a vertical line to represent the average length of the names\n",
    "ax1.axvline(x=31, ymin=0.048, c='grey', alpha=0.5) \n",
    "ax2.axvline(x=23, ymin=0.048, c='grey', alpha=0.5) \n",
    "\n",
    "# Add figure title and subtitle\n",
    "ax1.text(x=-55, y=38, s='Majority of the successful escapees have longer names', \n",
    "        weight='bold', size=24)\n",
    "\n",
    "ax1.text(x=-55, y=36, s=\"The length of escapees'  names — the sucessful and unsuccessful escapees\", size=18)\n",
    "\n",
    "# Add ax1 title\n",
    "ax1.text(x=21, y=33, s='The successful escapees', size=14)\n",
    "\n",
    "# Add ax2 title\n",
    "ax2.text(x=19.5, y=12.2, s='The unsuccessful escapees', size=14)\n",
    "\n",
    "plt.show()"
   ]
  },
  {
   "cell_type": "markdown",
   "metadata": {},
   "source": [
    "The average length of names for successful escapees is 31 characters, whereas it is only 23 characters for unsuccessful escapees. 45.2% of the successful escapee's names are above their average length, while there are only 30.0% for unsuccessful escapees. In other words, **the longer the escapee's names — an indication of higher number of escapees — the greater the success chance of prison break attempts**."
   ]
  },
  {
   "cell_type": "markdown",
   "metadata": {},
   "source": [
    "## Identifying the escapees with multiple times prison break attempts"
   ]
  },
  {
   "cell_type": "markdown",
   "metadata": {},
   "source": [
    "Let's find out which escapees have done it more than one time."
   ]
  },
  {
   "cell_type": "code",
   "execution_count": 29,
   "metadata": {},
   "outputs": [],
   "source": [
    "# Get the counts of the unique escapees\n",
    "escapees_frequency = df['Escapee(s)'].value_counts()"
   ]
  },
  {
   "cell_type": "code",
   "execution_count": 30,
   "metadata": {},
   "outputs": [
    {
     "name": "stdout",
     "output_type": "stream",
     "text": [
      "—                                                                      7\n",
      "Michel Vaujour                                                         2\n",
      "Pascal Payet                                                           2\n",
      "Joel David Kaplan Carlos Antonio Contreras Castro                      1\n",
      "Vasilis PaleokostasAlket Rizai                                         1\n",
      "Orlando Cartagena Jose Rodriguez Victor Diaz Hector Diaz Jose Tapia    1\n",
      "Eric AlboreoFranck PerlettoMichel Valero                               1\n",
      "Hubert SellesJean-Claude MorettiMohamed Bessame                        1\n",
      "Vassilis Paleokostas                                                   1\n",
      "Eric Ferdinand                                                         1\n",
      "Nordin Benallal                                                        1\n",
      "Ashraf Sekkaki plus three other criminals                              1\n",
      "Alexin JismyFabrice Michel                                             1\n",
      "Brian Lawrence                                                         1\n",
      "Alexey Shestakov                                                       1\n",
      "Panagiotis Vlastos                                                     1\n",
      "Benjamin Hudon-BarbeauDanny Provençal                                  1\n",
      "Yves DenisDenis LefebvreSerge Pomerleau                                1\n",
      "Pola RoupaNikos Maziotis                                               1\n",
      "Rédoine Faïd                                                           1\n",
      "Abdelhamid CarnousEmile Forma-SariJean-Philippe Lecase                 1\n",
      "Steven Whitsett                                                        1\n",
      "JB O'Hagan Seamus TwomeyKevin Mallon                                   1\n",
      "John Killick                                                           1\n",
      "Garrett Brock TrapnellMartin Joseph McNallyJames Kenneth Johnson       1\n",
      "Gérard DupréDaniel Beaumont                                            1\n",
      "Marina Paquet (hijacker)Giles Arseneault (prisoner)                    1\n",
      "David McMillan                                                         1\n",
      "James Rodney LeonardWilliam Douglas BallewJesse Glenn Smith            1\n",
      "José Carlos dos Reis Encina, a.k.a. \"Escadinha\"                        1\n",
      "Samantha Lopez                                                         1\n",
      "André BellaïcheGianluigi EspositoLuciano Cipollari                     1\n",
      "Sydney DraperJohn Kendall                                              1\n",
      "Mahoney Danny Francis MitchellRandy Lackey                             1\n",
      "Ben Kramer                                                             1\n",
      "Ralph BrownFreddie Gonzales                                            1\n",
      "Robert FordDavid Thomas                                                1\n",
      "William Lane                                                           1\n",
      "Four members of the Manuel Rodriguez Patriotic Front                   1\n",
      "Kristel A.                                                             1\n",
      "Name: Escapee(s), dtype: int64\n"
     ]
    }
   ],
   "source": [
    "print(escapees_frequency)"
   ]
  },
  {
   "cell_type": "markdown",
   "metadata": {},
   "source": [
    "Unfortunately, the escapee(s) information for seven prison breaks was missing. With the existing data, **Michel Vaujour** and **Pascal Payet**, from France, have done prison breaks twice, respectively."
   ]
  },
  {
   "cell_type": "markdown",
   "metadata": {},
   "source": [
    "## Conclusion"
   ]
  },
  {
   "cell_type": "markdown",
   "metadata": {},
   "source": [
    "The goal of this project is to study the patterns of helicopter prison breaks between the years 1971 to 2020. By using basic Python techniques and Matplotlib, our findings show that:\n",
    "\n",
    "- The highest prison break attempts are three times, which happened in years **1986, 2001, 2007 and 2009**.\n",
    "- **France** with a total of **15 attempts**, is the top country for helicopter prison breaks.\n",
    "- We **could not statistically conclude the countries with the greatest chance of success**, as all the countries with 100% success rate only had one to two prison break attempts. \n",
    "- The **longer the escapees' names**, the **greater** the chance of **prison break success**. This is based on the assumption that the number of escapees positively correlate with the lengths of their combined names.\n",
    "- **Michel Vaujour** and **Pascal Payet** from France, have committed helicopter prison break **twice** respectively."
   ]
  },
  {
   "cell_type": "code",
   "execution_count": null,
   "metadata": {},
   "outputs": [],
   "source": []
  }
 ],
 "metadata": {
  "kernelspec": {
   "display_name": "Python 3 (ipykernel)",
   "language": "python",
   "name": "python3"
  },
  "language_info": {
   "codemirror_mode": {
    "name": "ipython",
    "version": 3
   },
   "file_extension": ".py",
   "mimetype": "text/x-python",
   "name": "python",
   "nbconvert_exporter": "python",
   "pygments_lexer": "ipython3",
   "version": "3.8.8"
  },
  "toc": {
   "base_numbering": 1,
   "nav_menu": {},
   "number_sections": false,
   "sideBar": true,
   "skip_h1_title": false,
   "title_cell": "Table of Contents",
   "title_sidebar": "Contents",
   "toc_cell": false,
   "toc_position": {
    "height": "332px",
    "left": "921px",
    "top": "111.12px",
    "width": "269px"
   },
   "toc_section_display": true,
   "toc_window_display": true
  },
  "varInspector": {
   "cols": {
    "lenName": 16,
    "lenType": 16,
    "lenVar": 40
   },
   "kernels_config": {
    "python": {
     "delete_cmd_postfix": "",
     "delete_cmd_prefix": "del ",
     "library": "var_list.py",
     "varRefreshCmd": "print(var_dic_list())"
    },
    "r": {
     "delete_cmd_postfix": ") ",
     "delete_cmd_prefix": "rm(",
     "library": "var_list.r",
     "varRefreshCmd": "cat(var_dic_list()) "
    }
   },
   "types_to_exclude": [
    "module",
    "function",
    "builtin_function_or_method",
    "instance",
    "_Feature"
   ],
   "window_display": false
  }
 },
 "nbformat": 4,
 "nbformat_minor": 2
}
